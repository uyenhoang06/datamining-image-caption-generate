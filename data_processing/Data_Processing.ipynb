{
 "cells": [
  {
   "cell_type": "markdown",
   "id": "722eb274",
   "metadata": {},
   "source": [
    "# Read file "
   ]
  },
  {
   "cell_type": "code",
   "execution_count": 1,
   "id": "e5241b7a",
   "metadata": {},
   "outputs": [],
   "source": [
    "import pandas as pd \n",
    "import numpy as np "
   ]
  },
  {
   "cell_type": "code",
   "execution_count": 9,
   "id": "31b0c9ca",
   "metadata": {},
   "outputs": [],
   "source": [
    "df_image_data_ver2 = pd.read_csv('D:\\\\image_data_ver2.csv')\n",
    "df_basketball = pd.read_csv('D:\\\\image_data_basketball.csv')\n",
    "df_walking = pd.read_csv('D:\\\\image_data_walking.csv')\n",
    "df_volleyball = pd.read_csv('D:\\\\image_data_volleyball.csv')\n",
    "df_tennis = pd.read_csv('D:\\\\image_data_tennis.csv')\n",
    "df_soccer = pd.read_csv('D:\\\\image_data_soccer_1.csv')\n",
    "df_skating = pd.read_csv('D:\\\\image_data_skating.csv')\n",
    "df_run = pd.read_csv('D:\\\\image_data_run.csv')\n",
    "df_racing = pd.read_csv('D:\\\\image_data_racing.csv')\n",
    "df_karate = pd.read_csv('D:\\\\image_data_karate.csv')\n",
    "df_jumping = pd.read_csv('D:\\\\image_data_jumping.csv')\n",
    "df_hunting = pd.read_csv('D:\\\\image_data_hunting.csv')\n",
    "df_gym = pd.read_csv('D:\\\\image_data_gymnastic.csv')\n",
    "df_diving = pd.read_csv('D:\\\\image_data_diving.csv')\n",
    "df_climb = pd.read_csv('D:\\\\image_data_climb.csv')\n",
    "df_boxing = pd.read_csv('D:\\\\image_data_boxing.csv')\n",
    "df_bowling = pd.read_csv('D:\\\\image_data_bowling.csv')\n",
    "df_bi_a = pd.read_csv('D:\\\\image_data_bi_a.csv')\n",
    "df_aerobic = pd.read_csv('D:\\\\image_data_aerobic.csv')\n",
    "df_freepick = pd.read_csv('D:\\\\image_data_freepick.csv')\n",
    "df_istock = pd.read_csv('D:\\\\image_data_istock.csv')"
   ]
  },
  {
   "cell_type": "markdown",
   "id": "4c2f03aa",
   "metadata": {},
   "source": [
    "# Processing"
   ]
  },
  {
   "cell_type": "markdown",
   "id": "4834d5f2",
   "metadata": {},
   "source": [
    "### Image_data_ver2"
   ]
  },
  {
   "cell_type": "code",
   "execution_count": 3,
   "id": "08777618",
   "metadata": {},
   "outputs": [
    {
     "data": {
      "text/html": [
       "<div>\n",
       "<style scoped>\n",
       "    .dataframe tbody tr th:only-of-type {\n",
       "        vertical-align: middle;\n",
       "    }\n",
       "\n",
       "    .dataframe tbody tr th {\n",
       "        vertical-align: top;\n",
       "    }\n",
       "\n",
       "    .dataframe thead th {\n",
       "        text-align: right;\n",
       "    }\n",
       "</style>\n",
       "<table border=\"1\" class=\"dataframe\">\n",
       "  <thead>\n",
       "    <tr style=\"text-align: right;\">\n",
       "      <th></th>\n",
       "      <th>Image Filename</th>\n",
       "      <th>Caption</th>\n",
       "    </tr>\n",
       "  </thead>\n",
       "  <tbody>\n",
       "    <tr>\n",
       "      <th>0</th>\n",
       "      <td>image001.jpg</td>\n",
       "      <td>no_alt_text</td>\n",
       "    </tr>\n",
       "    <tr>\n",
       "      <th>1</th>\n",
       "      <td>image002.jpg</td>\n",
       "      <td>no_alt_text</td>\n",
       "    </tr>\n",
       "    <tr>\n",
       "      <th>2</th>\n",
       "      <td>image003.jpg</td>\n",
       "      <td>no_alt_text</td>\n",
       "    </tr>\n",
       "    <tr>\n",
       "      <th>3</th>\n",
       "      <td>image004.jpg</td>\n",
       "      <td>no_alt_text</td>\n",
       "    </tr>\n",
       "    <tr>\n",
       "      <th>4</th>\n",
       "      <td>image005.jpg</td>\n",
       "      <td>no_alt_text</td>\n",
       "    </tr>\n",
       "  </tbody>\n",
       "</table>\n",
       "</div>"
      ],
      "text/plain": [
       "  Image Filename      Caption\n",
       "0   image001.jpg  no_alt_text\n",
       "1   image002.jpg  no_alt_text\n",
       "2   image003.jpg  no_alt_text\n",
       "3   image004.jpg  no_alt_text\n",
       "4   image005.jpg  no_alt_text"
      ]
     },
     "execution_count": 3,
     "metadata": {},
     "output_type": "execute_result"
    }
   ],
   "source": [
    "df_image_data_ver2.head()"
   ]
  },
  {
   "cell_type": "code",
   "execution_count": 4,
   "id": "d55b08e3",
   "metadata": {},
   "outputs": [
    {
     "data": {
      "text/plain": [
       "(2134, 2)"
      ]
     },
     "execution_count": 4,
     "metadata": {},
     "output_type": "execute_result"
    }
   ],
   "source": [
    "df_image_data_ver2.shape"
   ]
  },
  {
   "cell_type": "markdown",
   "id": "3bebd409",
   "metadata": {},
   "source": [
    "#### Drop images that don't have caption "
   ]
  },
  {
   "cell_type": "code",
   "execution_count": 4,
   "id": "53d3f262",
   "metadata": {},
   "outputs": [
    {
     "data": {
      "text/plain": [
       "(1856, 2)"
      ]
     },
     "execution_count": 4,
     "metadata": {},
     "output_type": "execute_result"
    }
   ],
   "source": [
    "df_sport = df_image_data_ver2[~df_image_data_ver2.applymap(lambda x: x == 'no_alt_text').any(axis=1)]\n",
    "df_sport.shape"
   ]
  },
  {
   "cell_type": "code",
   "execution_count": 5,
   "id": "a8285e98",
   "metadata": {},
   "outputs": [
    {
     "data": {
      "text/html": [
       "<div>\n",
       "<style scoped>\n",
       "    .dataframe tbody tr th:only-of-type {\n",
       "        vertical-align: middle;\n",
       "    }\n",
       "\n",
       "    .dataframe tbody tr th {\n",
       "        vertical-align: top;\n",
       "    }\n",
       "\n",
       "    .dataframe thead th {\n",
       "        text-align: right;\n",
       "    }\n",
       "</style>\n",
       "<table border=\"1\" class=\"dataframe\">\n",
       "  <thead>\n",
       "    <tr style=\"text-align: right;\">\n",
       "      <th></th>\n",
       "      <th>Image Filename</th>\n",
       "      <th>Caption</th>\n",
       "    </tr>\n",
       "  </thead>\n",
       "  <tbody>\n",
       "    <tr>\n",
       "      <th>0</th>\n",
       "      <td>image007.jpg</td>\n",
       "      <td>Free Person Swimming on Body of Water Stock Photo</td>\n",
       "    </tr>\n",
       "    <tr>\n",
       "      <th>1</th>\n",
       "      <td>image008.jpg</td>\n",
       "      <td>Free Low Angle View of Woman Relaxing on Beach...</td>\n",
       "    </tr>\n",
       "    <tr>\n",
       "      <th>2</th>\n",
       "      <td>image009.jpg</td>\n",
       "      <td>Free Man Standing on Bridge Stock Photo</td>\n",
       "    </tr>\n",
       "    <tr>\n",
       "      <th>3</th>\n",
       "      <td>image010.jpg</td>\n",
       "      <td>Free Person Riding Bike Making Trek on Thin Ai...</td>\n",
       "    </tr>\n",
       "    <tr>\n",
       "      <th>4</th>\n",
       "      <td>image011.jpg</td>\n",
       "      <td>Free Man Dunking the Ball Stock Photo</td>\n",
       "    </tr>\n",
       "  </tbody>\n",
       "</table>\n",
       "</div>"
      ],
      "text/plain": [
       "  Image Filename                                            Caption\n",
       "0   image007.jpg  Free Person Swimming on Body of Water Stock Photo\n",
       "1   image008.jpg  Free Low Angle View of Woman Relaxing on Beach...\n",
       "2   image009.jpg            Free Man Standing on Bridge Stock Photo\n",
       "3   image010.jpg  Free Person Riding Bike Making Trek on Thin Ai...\n",
       "4   image011.jpg              Free Man Dunking the Ball Stock Photo"
      ]
     },
     "execution_count": 5,
     "metadata": {},
     "output_type": "execute_result"
    }
   ],
   "source": [
    "df_sport.reset_index(drop=True, inplace=True)\n",
    "df_sport.head()"
   ]
  },
  {
   "cell_type": "code",
   "execution_count": 8,
   "id": "fbfb7c22",
   "metadata": {},
   "outputs": [
    {
     "data": {
      "text/plain": [
       "(1854, 2)"
      ]
     },
     "execution_count": 8,
     "metadata": {},
     "output_type": "execute_result"
    }
   ],
   "source": [
    "df_sport = df_sport.drop(df_sport.tail(2).index)\n",
    "df_sport.shape"
   ]
  },
  {
   "cell_type": "markdown",
   "id": "a6c38d48",
   "metadata": {},
   "source": [
    "#### Delete tokens in captions \n",
    "When scraping data from websites, the captions contain some unnecessary words at the beginning and end of the sentence such as: free, stock photo,... So we must drop it "
   ]
  },
  {
   "cell_type": "code",
   "execution_count": 6,
   "id": "4924f2f6",
   "metadata": {},
   "outputs": [
    {
     "name": "stderr",
     "output_type": "stream",
     "text": [
      "C:\\Users\\ADMIN\\AppData\\Local\\Temp\\ipykernel_5220\\3145087536.py:12: SettingWithCopyWarning: \n",
      "A value is trying to be set on a copy of a slice from a DataFrame.\n",
      "Try using .loc[row_indexer,col_indexer] = value instead\n",
      "\n",
      "See the caveats in the documentation: https://pandas.pydata.org/pandas-docs/stable/user_guide/indexing.html#returning-a-view-versus-a-copy\n",
      "  df_sport['Caption'] = df_sport['Caption'].apply(drop_unnecessary_token)\n"
     ]
    }
   ],
   "source": [
    "def drop_unnecessary_token(text):\n",
    "    tokens = text.split()  \n",
    "    if len(tokens) > 2:  \n",
    "        tokens = tokens[1:-2]\n",
    "        if tokens:\n",
    "            tokens[0] = tokens[0].capitalize()\n",
    "    else:\n",
    "        tokens = []  \n",
    "    return ' '.join(tokens) \n",
    "\n",
    "# Apply the function to the column 'Caption'\n",
    "df_sport['Caption'] = df_sport['Caption'].apply(drop_unnecessary_token)"
   ]
  },
  {
   "cell_type": "code",
   "execution_count": 7,
   "id": "39c53dcf",
   "metadata": {},
   "outputs": [
    {
     "name": "stderr",
     "output_type": "stream",
     "text": [
      "C:\\Users\\ADMIN\\AppData\\Local\\Temp\\ipykernel_5220\\3447084606.py:7: SettingWithCopyWarning: \n",
      "A value is trying to be set on a copy of a slice from a DataFrame.\n",
      "Try using .loc[row_indexer,col_indexer] = value instead\n",
      "\n",
      "See the caveats in the documentation: https://pandas.pydata.org/pandas-docs/stable/user_guide/indexing.html#returning-a-view-versus-a-copy\n",
      "  df_sport['Caption'] = df_sport['Caption'].apply(to_sentence_case)\n"
     ]
    }
   ],
   "source": [
    "# Function to make the caption to sentence case \n",
    "def to_sentence_case(s):\n",
    "    s = s.lower()\n",
    "    return s[0].upper() + s[1:] if s else s\n",
    "\n",
    "# Apply the function to the 'Caption' column\n",
    "df_sport['Caption'] = df_sport['Caption'].apply(to_sentence_case)"
   ]
  },
  {
   "cell_type": "code",
   "execution_count": 12,
   "id": "6a9d225f",
   "metadata": {},
   "outputs": [
    {
     "data": {
      "text/html": [
       "<div>\n",
       "<style scoped>\n",
       "    .dataframe tbody tr th:only-of-type {\n",
       "        vertical-align: middle;\n",
       "    }\n",
       "\n",
       "    .dataframe tbody tr th {\n",
       "        vertical-align: top;\n",
       "    }\n",
       "\n",
       "    .dataframe thead th {\n",
       "        text-align: right;\n",
       "    }\n",
       "</style>\n",
       "<table border=\"1\" class=\"dataframe\">\n",
       "  <thead>\n",
       "    <tr style=\"text-align: right;\">\n",
       "      <th></th>\n",
       "      <th>Image Filename</th>\n",
       "      <th>Caption</th>\n",
       "    </tr>\n",
       "  </thead>\n",
       "  <tbody>\n",
       "    <tr>\n",
       "      <th>0</th>\n",
       "      <td>image007.jpg</td>\n",
       "      <td>Person swimming on body of water</td>\n",
       "    </tr>\n",
       "    <tr>\n",
       "      <th>1</th>\n",
       "      <td>image008.jpg</td>\n",
       "      <td>Low angle view of woman relaxing on beach agai...</td>\n",
       "    </tr>\n",
       "    <tr>\n",
       "      <th>2</th>\n",
       "      <td>image009.jpg</td>\n",
       "      <td>Man standing on bridge</td>\n",
       "    </tr>\n",
       "    <tr>\n",
       "      <th>3</th>\n",
       "      <td>image010.jpg</td>\n",
       "      <td>Person riding bike making trek on thin air</td>\n",
       "    </tr>\n",
       "    <tr>\n",
       "      <th>4</th>\n",
       "      <td>image011.jpg</td>\n",
       "      <td>Man dunking the ball</td>\n",
       "    </tr>\n",
       "  </tbody>\n",
       "</table>\n",
       "</div>"
      ],
      "text/plain": [
       "  Image Filename                                            Caption\n",
       "0   image007.jpg                   Person swimming on body of water\n",
       "1   image008.jpg  Low angle view of woman relaxing on beach agai...\n",
       "2   image009.jpg                             Man standing on bridge\n",
       "3   image010.jpg         Person riding bike making trek on thin air\n",
       "4   image011.jpg                               Man dunking the ball"
      ]
     },
     "execution_count": 12,
     "metadata": {},
     "output_type": "execute_result"
    }
   ],
   "source": [
    "df_sport.head()"
   ]
  },
  {
   "cell_type": "code",
   "execution_count": 13,
   "id": "28ee5cb9",
   "metadata": {},
   "outputs": [
    {
     "data": {
      "text/plain": [
       "(1854, 2)"
      ]
     },
     "execution_count": 13,
     "metadata": {},
     "output_type": "execute_result"
    }
   ],
   "source": [
    "df_sport.shape"
   ]
  },
  {
   "cell_type": "code",
   "execution_count": 14,
   "id": "adc35d14",
   "metadata": {},
   "outputs": [],
   "source": [
    "df_sport.to_csv('dataset_image_sport.csv', index=False) "
   ]
  },
  {
   "cell_type": "markdown",
   "id": "55f040a5",
   "metadata": {},
   "source": [
    "##### When we cleaning data (delete row that don't have caption), the folder containing images must correspond to the order of the images in the dataset => Must delete the images that are deleted in the dataset "
   ]
  },
  {
   "cell_type": "code",
   "execution_count": 8,
   "id": "873947b2",
   "metadata": {},
   "outputs": [],
   "source": [
    "import os\n",
    "import csv\n",
    "\n",
    "def clean_folder_from_csv(folder_path, csv_file_path):\n",
    "    \"\"\"\n",
    "    Deletes files in the specified folder that are not listed in the provided CSV file.\n",
    "\n",
    "    Parameters:\n",
    "    folder_path (str): The path to the folder containing the files.\n",
    "    csv_file_path (str): The path to the CSV file with valid image names.\n",
    "    \"\"\"\n",
    "    # Function to read all image names from the CSV file\n",
    "    valid_images = set()\n",
    "    with open(csv_file_path, newline='', encoding='utf-8') as csvfile:\n",
    "        reader = csv.reader(csvfile)\n",
    "        next(reader, None)  # Skip the header row if there is one\n",
    "        for row in reader:\n",
    "            image_name = row[0]  # Assuming the image name is in the first column\n",
    "            valid_images.add(image_name)\n",
    "\n",
    "    # Get all files in the folder\n",
    "    files_in_folder = os.listdir(folder_path)\n",
    "\n",
    "    # Delete files that are not in the CSV list\n",
    "    for file in files_in_folder:\n",
    "        if file not in valid_images:\n",
    "            os.remove(os.path.join(folder_path, file))"
   ]
  },
  {
   "cell_type": "code",
   "execution_count": null,
   "id": "004b4880",
   "metadata": {},
   "outputs": [],
   "source": [
    "folder_path = 'D:\\\\Saved_Images_ver2'\n",
    "csv_file_path = 'C:\\\\Users\\\\ADMIN\\\\dataset_image_sport.csv'\n",
    "clean_folder_from_csv(folder_path, csv_file_path)"
   ]
  },
  {
   "cell_type": "markdown",
   "id": "474f8140",
   "metadata": {},
   "source": [
    "# Basketball_Data"
   ]
  },
  {
   "cell_type": "code",
   "execution_count": 15,
   "id": "d0d83bf5",
   "metadata": {},
   "outputs": [
    {
     "data": {
      "text/html": [
       "<div>\n",
       "<style scoped>\n",
       "    .dataframe tbody tr th:only-of-type {\n",
       "        vertical-align: middle;\n",
       "    }\n",
       "\n",
       "    .dataframe tbody tr th {\n",
       "        vertical-align: top;\n",
       "    }\n",
       "\n",
       "    .dataframe thead th {\n",
       "        text-align: right;\n",
       "    }\n",
       "</style>\n",
       "<table border=\"1\" class=\"dataframe\">\n",
       "  <thead>\n",
       "    <tr style=\"text-align: right;\">\n",
       "      <th></th>\n",
       "      <th>Image Filename</th>\n",
       "      <th>Caption</th>\n",
       "    </tr>\n",
       "  </thead>\n",
       "  <tbody>\n",
       "    <tr>\n",
       "      <th>0</th>\n",
       "      <td>image001.jpg</td>\n",
       "      <td>no_alt_text</td>\n",
       "    </tr>\n",
       "    <tr>\n",
       "      <th>1</th>\n",
       "      <td>image002.jpg</td>\n",
       "      <td>no_alt_text</td>\n",
       "    </tr>\n",
       "    <tr>\n",
       "      <th>2</th>\n",
       "      <td>image003.jpg</td>\n",
       "      <td>no_alt_text</td>\n",
       "    </tr>\n",
       "    <tr>\n",
       "      <th>3</th>\n",
       "      <td>image004.jpg</td>\n",
       "      <td>no_alt_text</td>\n",
       "    </tr>\n",
       "    <tr>\n",
       "      <th>4</th>\n",
       "      <td>image005.jpg</td>\n",
       "      <td>no_alt_text</td>\n",
       "    </tr>\n",
       "  </tbody>\n",
       "</table>\n",
       "</div>"
      ],
      "text/plain": [
       "  Image Filename      Caption\n",
       "0   image001.jpg  no_alt_text\n",
       "1   image002.jpg  no_alt_text\n",
       "2   image003.jpg  no_alt_text\n",
       "3   image004.jpg  no_alt_text\n",
       "4   image005.jpg  no_alt_text"
      ]
     },
     "execution_count": 15,
     "metadata": {},
     "output_type": "execute_result"
    }
   ],
   "source": [
    "df_basketball.head()"
   ]
  },
  {
   "cell_type": "code",
   "execution_count": 17,
   "id": "177f1f9a",
   "metadata": {},
   "outputs": [
    {
     "data": {
      "text/plain": [
       "(1907, 2)"
      ]
     },
     "execution_count": 17,
     "metadata": {},
     "output_type": "execute_result"
    }
   ],
   "source": [
    "df_basketball.shape"
   ]
  },
  {
   "cell_type": "code",
   "execution_count": 18,
   "id": "ecd4df50",
   "metadata": {},
   "outputs": [
    {
     "data": {
      "text/plain": [
       "(1669, 2)"
      ]
     },
     "execution_count": 18,
     "metadata": {},
     "output_type": "execute_result"
    }
   ],
   "source": [
    "df_basketball = df_basketball[~df_basketball.applymap(lambda x: x == 'no_alt_text').any(axis=1)]\n",
    "df_basketball.shape"
   ]
  },
  {
   "cell_type": "code",
   "execution_count": 19,
   "id": "7757fc3e",
   "metadata": {},
   "outputs": [],
   "source": [
    "df_basketball.reset_index(drop=True, inplace=True)"
   ]
  },
  {
   "cell_type": "code",
   "execution_count": 20,
   "id": "5f3668d5",
   "metadata": {},
   "outputs": [
    {
     "data": {
      "text/html": [
       "<div>\n",
       "<style scoped>\n",
       "    .dataframe tbody tr th:only-of-type {\n",
       "        vertical-align: middle;\n",
       "    }\n",
       "\n",
       "    .dataframe tbody tr th {\n",
       "        vertical-align: top;\n",
       "    }\n",
       "\n",
       "    .dataframe thead th {\n",
       "        text-align: right;\n",
       "    }\n",
       "</style>\n",
       "<table border=\"1\" class=\"dataframe\">\n",
       "  <thead>\n",
       "    <tr style=\"text-align: right;\">\n",
       "      <th></th>\n",
       "      <th>Image Filename</th>\n",
       "      <th>Caption</th>\n",
       "    </tr>\n",
       "  </thead>\n",
       "  <tbody>\n",
       "    <tr>\n",
       "      <th>0</th>\n",
       "      <td>image012.jpg</td>\n",
       "      <td>Free Men on Wheelchairs Playing Basketball Sto...</td>\n",
       "    </tr>\n",
       "    <tr>\n",
       "      <th>1</th>\n",
       "      <td>image013.jpg</td>\n",
       "      <td>Free Brown Basketball on Grey Floor Stock Photo</td>\n",
       "    </tr>\n",
       "    <tr>\n",
       "      <th>2</th>\n",
       "      <td>image014.jpg</td>\n",
       "      <td>Free Man Wearing Blue and Yellow Shorts Playin...</td>\n",
       "    </tr>\n",
       "    <tr>\n",
       "      <th>3</th>\n",
       "      <td>image015.jpg</td>\n",
       "      <td>Free Silhouette of Men Playing Basketball Stoc...</td>\n",
       "    </tr>\n",
       "    <tr>\n",
       "      <th>4</th>\n",
       "      <td>image016.jpg</td>\n",
       "      <td>Free Woman in Blue and White Basketball Jersey...</td>\n",
       "    </tr>\n",
       "  </tbody>\n",
       "</table>\n",
       "</div>"
      ],
      "text/plain": [
       "  Image Filename                                            Caption\n",
       "0   image012.jpg  Free Men on Wheelchairs Playing Basketball Sto...\n",
       "1   image013.jpg    Free Brown Basketball on Grey Floor Stock Photo\n",
       "2   image014.jpg  Free Man Wearing Blue and Yellow Shorts Playin...\n",
       "3   image015.jpg  Free Silhouette of Men Playing Basketball Stoc...\n",
       "4   image016.jpg  Free Woman in Blue and White Basketball Jersey..."
      ]
     },
     "execution_count": 20,
     "metadata": {},
     "output_type": "execute_result"
    }
   ],
   "source": [
    "df_basketball.head()"
   ]
  },
  {
   "cell_type": "code",
   "execution_count": 23,
   "id": "12276400",
   "metadata": {},
   "outputs": [],
   "source": [
    "df_basketball['Caption'] = df_basketball['Caption'].apply(drop_unnecessary_token)\n",
    "df_basketball['Caption'] = df_basketball['Caption'].apply(to_sentence_case)"
   ]
  },
  {
   "cell_type": "code",
   "execution_count": 24,
   "id": "a6bfc078",
   "metadata": {},
   "outputs": [
    {
     "data": {
      "text/html": [
       "<div>\n",
       "<style scoped>\n",
       "    .dataframe tbody tr th:only-of-type {\n",
       "        vertical-align: middle;\n",
       "    }\n",
       "\n",
       "    .dataframe tbody tr th {\n",
       "        vertical-align: top;\n",
       "    }\n",
       "\n",
       "    .dataframe thead th {\n",
       "        text-align: right;\n",
       "    }\n",
       "</style>\n",
       "<table border=\"1\" class=\"dataframe\">\n",
       "  <thead>\n",
       "    <tr style=\"text-align: right;\">\n",
       "      <th></th>\n",
       "      <th>Image Filename</th>\n",
       "      <th>Caption</th>\n",
       "    </tr>\n",
       "  </thead>\n",
       "  <tbody>\n",
       "    <tr>\n",
       "      <th>0</th>\n",
       "      <td>image012.jpg</td>\n",
       "      <td>Men on wheelchairs playing basketball</td>\n",
       "    </tr>\n",
       "    <tr>\n",
       "      <th>1</th>\n",
       "      <td>image013.jpg</td>\n",
       "      <td>Brown basketball on grey floor</td>\n",
       "    </tr>\n",
       "    <tr>\n",
       "      <th>2</th>\n",
       "      <td>image014.jpg</td>\n",
       "      <td>Man wearing blue and yellow shorts playing bas...</td>\n",
       "    </tr>\n",
       "    <tr>\n",
       "      <th>3</th>\n",
       "      <td>image015.jpg</td>\n",
       "      <td>Silhouette of men playing basketball</td>\n",
       "    </tr>\n",
       "    <tr>\n",
       "      <th>4</th>\n",
       "      <td>image016.jpg</td>\n",
       "      <td>Woman in blue and white basketball jersey hold...</td>\n",
       "    </tr>\n",
       "  </tbody>\n",
       "</table>\n",
       "</div>"
      ],
      "text/plain": [
       "  Image Filename                                            Caption\n",
       "0   image012.jpg              Men on wheelchairs playing basketball\n",
       "1   image013.jpg                     Brown basketball on grey floor\n",
       "2   image014.jpg  Man wearing blue and yellow shorts playing bas...\n",
       "3   image015.jpg               Silhouette of men playing basketball\n",
       "4   image016.jpg  Woman in blue and white basketball jersey hold..."
      ]
     },
     "execution_count": 24,
     "metadata": {},
     "output_type": "execute_result"
    }
   ],
   "source": [
    "df_basketball.head()"
   ]
  },
  {
   "cell_type": "code",
   "execution_count": 25,
   "id": "8a5ed9eb",
   "metadata": {},
   "outputs": [],
   "source": [
    "df_basketball.to_csv('dataset_image_basketball.csv', index=False) "
   ]
  },
  {
   "cell_type": "code",
   "execution_count": 26,
   "id": "0cc8c684",
   "metadata": {},
   "outputs": [],
   "source": [
    "folder_path = 'D:\\\\Saved_Images_basketball'\n",
    "csv_file_path = 'C:\\\\Users\\\\ADMIN\\\\dataset_image_basketball.csv'\n",
    "clean_folder_from_csv(folder_path, csv_file_path)"
   ]
  },
  {
   "cell_type": "code",
   "execution_count": 93,
   "id": "db82994b",
   "metadata": {},
   "outputs": [
    {
     "data": {
      "text/plain": [
       "(1669, 2)"
      ]
     },
     "execution_count": 93,
     "metadata": {},
     "output_type": "execute_result"
    }
   ],
   "source": [
    "a = pd.read_csv('C:\\\\Users\\\\ADMIN\\\\dataset_image_basketball.csv')\n",
    "a.shape"
   ]
  },
  {
   "cell_type": "markdown",
   "id": "db571f4a",
   "metadata": {},
   "source": [
    "# Walking_Data"
   ]
  },
  {
   "cell_type": "code",
   "execution_count": 32,
   "id": "d0ccb144",
   "metadata": {},
   "outputs": [
    {
     "data": {
      "text/html": [
       "<div>\n",
       "<style scoped>\n",
       "    .dataframe tbody tr th:only-of-type {\n",
       "        vertical-align: middle;\n",
       "    }\n",
       "\n",
       "    .dataframe tbody tr th {\n",
       "        vertical-align: top;\n",
       "    }\n",
       "\n",
       "    .dataframe thead th {\n",
       "        text-align: right;\n",
       "    }\n",
       "</style>\n",
       "<table border=\"1\" class=\"dataframe\">\n",
       "  <thead>\n",
       "    <tr style=\"text-align: right;\">\n",
       "      <th></th>\n",
       "      <th>Image Filename</th>\n",
       "      <th>Caption</th>\n",
       "    </tr>\n",
       "  </thead>\n",
       "  <tbody>\n",
       "    <tr>\n",
       "      <th>10</th>\n",
       "      <td>image011.jpg</td>\n",
       "      <td>Free Man Walking on Road Under the Sun Stock P...</td>\n",
       "    </tr>\n",
       "    <tr>\n",
       "      <th>11</th>\n",
       "      <td>image012.jpg</td>\n",
       "      <td>Free Man Walking on the Gray Asphalt Road Stoc...</td>\n",
       "    </tr>\n",
       "    <tr>\n",
       "      <th>12</th>\n",
       "      <td>image013.jpg</td>\n",
       "      <td>Free Man Walking on Floor Stock Photo</td>\n",
       "    </tr>\n",
       "    <tr>\n",
       "      <th>13</th>\n",
       "      <td>image014.jpg</td>\n",
       "      <td>Free Person in Yellow and Black Backpack Walki...</td>\n",
       "    </tr>\n",
       "    <tr>\n",
       "      <th>14</th>\n",
       "      <td>image015.jpg</td>\n",
       "      <td>Free Man Wearing Blue Bubble Hoodie Jacket Wal...</td>\n",
       "    </tr>\n",
       "  </tbody>\n",
       "</table>\n",
       "</div>"
      ],
      "text/plain": [
       "   Image Filename                                            Caption\n",
       "10   image011.jpg  Free Man Walking on Road Under the Sun Stock P...\n",
       "11   image012.jpg  Free Man Walking on the Gray Asphalt Road Stoc...\n",
       "12   image013.jpg              Free Man Walking on Floor Stock Photo\n",
       "13   image014.jpg  Free Person in Yellow and Black Backpack Walki...\n",
       "14   image015.jpg  Free Man Wearing Blue Bubble Hoodie Jacket Wal..."
      ]
     },
     "execution_count": 32,
     "metadata": {},
     "output_type": "execute_result"
    }
   ],
   "source": [
    "df_walking.head()"
   ]
  },
  {
   "cell_type": "code",
   "execution_count": 29,
   "id": "b5b0bd29",
   "metadata": {},
   "outputs": [
    {
     "data": {
      "text/plain": [
       "(1555, 2)"
      ]
     },
     "execution_count": 29,
     "metadata": {},
     "output_type": "execute_result"
    }
   ],
   "source": [
    "df_walking = df_walking[~df_walking.applymap(lambda x: x == 'no_alt_text').any(axis=1)]\n",
    "df_walking.shape"
   ]
  },
  {
   "cell_type": "code",
   "execution_count": 31,
   "id": "bdca1374",
   "metadata": {},
   "outputs": [
    {
     "data": {
      "text/html": [
       "<div>\n",
       "<style scoped>\n",
       "    .dataframe tbody tr th:only-of-type {\n",
       "        vertical-align: middle;\n",
       "    }\n",
       "\n",
       "    .dataframe tbody tr th {\n",
       "        vertical-align: top;\n",
       "    }\n",
       "\n",
       "    .dataframe thead th {\n",
       "        text-align: right;\n",
       "    }\n",
       "</style>\n",
       "<table border=\"1\" class=\"dataframe\">\n",
       "  <thead>\n",
       "    <tr style=\"text-align: right;\">\n",
       "      <th></th>\n",
       "      <th>Image Filename</th>\n",
       "      <th>Caption</th>\n",
       "    </tr>\n",
       "  </thead>\n",
       "  <tbody>\n",
       "    <tr>\n",
       "      <th>1779</th>\n",
       "      <td>image1780.jpg</td>\n",
       "      <td>Free Person in Black Pants and Black Sandals W...</td>\n",
       "    </tr>\n",
       "    <tr>\n",
       "      <th>1780</th>\n",
       "      <td>image1781.jpg</td>\n",
       "      <td>Free Abstract Mural behind Woman Walking Dog  ...</td>\n",
       "    </tr>\n",
       "    <tr>\n",
       "      <th>1781</th>\n",
       "      <td>image1782.jpg</td>\n",
       "      <td>Free Businessman Carrying a Laptop Bag Crossin...</td>\n",
       "    </tr>\n",
       "    <tr>\n",
       "      <th>1782</th>\n",
       "      <td>image1783.jpg</td>\n",
       "      <td>Pexels Logo</td>\n",
       "    </tr>\n",
       "    <tr>\n",
       "      <th>1783</th>\n",
       "      <td>image1784.jpg</td>\n",
       "      <td>Powered by Onetrust</td>\n",
       "    </tr>\n",
       "  </tbody>\n",
       "</table>\n",
       "</div>"
      ],
      "text/plain": [
       "     Image Filename                                            Caption\n",
       "1779  image1780.jpg  Free Person in Black Pants and Black Sandals W...\n",
       "1780  image1781.jpg  Free Abstract Mural behind Woman Walking Dog  ...\n",
       "1781  image1782.jpg  Free Businessman Carrying a Laptop Bag Crossin...\n",
       "1782  image1783.jpg                                        Pexels Logo\n",
       "1783  image1784.jpg                                Powered by Onetrust"
      ]
     },
     "execution_count": 31,
     "metadata": {},
     "output_type": "execute_result"
    }
   ],
   "source": [
    "df_walking.tail()"
   ]
  },
  {
   "cell_type": "code",
   "execution_count": 34,
   "id": "8337cc19",
   "metadata": {},
   "outputs": [
    {
     "data": {
      "text/plain": [
       "(1553, 2)"
      ]
     },
     "execution_count": 34,
     "metadata": {},
     "output_type": "execute_result"
    }
   ],
   "source": [
    "df_walking = df_walking.drop(df_walking.tail(2).index)\n",
    "df_walking.shape"
   ]
  },
  {
   "cell_type": "code",
   "execution_count": 39,
   "id": "804da90b",
   "metadata": {},
   "outputs": [],
   "source": [
    "df_walking.reset_index(drop=True, inplace=True)"
   ]
  },
  {
   "cell_type": "code",
   "execution_count": 40,
   "id": "3e77de91",
   "metadata": {},
   "outputs": [],
   "source": [
    "df_walking['Caption'] = df_walking['Caption'].apply(drop_unnecessary_token)\n",
    "df_walking['Caption'] = df_walking['Caption'].apply(to_sentence_case)"
   ]
  },
  {
   "cell_type": "code",
   "execution_count": 41,
   "id": "c6d17e08",
   "metadata": {},
   "outputs": [
    {
     "data": {
      "text/html": [
       "<div>\n",
       "<style scoped>\n",
       "    .dataframe tbody tr th:only-of-type {\n",
       "        vertical-align: middle;\n",
       "    }\n",
       "\n",
       "    .dataframe tbody tr th {\n",
       "        vertical-align: top;\n",
       "    }\n",
       "\n",
       "    .dataframe thead th {\n",
       "        text-align: right;\n",
       "    }\n",
       "</style>\n",
       "<table border=\"1\" class=\"dataframe\">\n",
       "  <thead>\n",
       "    <tr style=\"text-align: right;\">\n",
       "      <th></th>\n",
       "      <th>Image Filename</th>\n",
       "      <th>Caption</th>\n",
       "    </tr>\n",
       "  </thead>\n",
       "  <tbody>\n",
       "    <tr>\n",
       "      <th>1548</th>\n",
       "      <td>image1778.jpg</td>\n",
       "      <td>Back view of a woman walking on a meadow</td>\n",
       "    </tr>\n",
       "    <tr>\n",
       "      <th>1549</th>\n",
       "      <td>image1779.jpg</td>\n",
       "      <td>Woman walking on a pathway</td>\n",
       "    </tr>\n",
       "    <tr>\n",
       "      <th>1550</th>\n",
       "      <td>image1780.jpg</td>\n",
       "      <td>Person in black pants and black sandals walkin...</td>\n",
       "    </tr>\n",
       "    <tr>\n",
       "      <th>1551</th>\n",
       "      <td>image1781.jpg</td>\n",
       "      <td>Abstract mural behind woman walking dog</td>\n",
       "    </tr>\n",
       "    <tr>\n",
       "      <th>1552</th>\n",
       "      <td>image1782.jpg</td>\n",
       "      <td>Businessman carrying a laptop bag crossing the...</td>\n",
       "    </tr>\n",
       "  </tbody>\n",
       "</table>\n",
       "</div>"
      ],
      "text/plain": [
       "     Image Filename                                            Caption\n",
       "1548  image1778.jpg           Back view of a woman walking on a meadow\n",
       "1549  image1779.jpg                         Woman walking on a pathway\n",
       "1550  image1780.jpg  Person in black pants and black sandals walkin...\n",
       "1551  image1781.jpg            Abstract mural behind woman walking dog\n",
       "1552  image1782.jpg  Businessman carrying a laptop bag crossing the..."
      ]
     },
     "execution_count": 41,
     "metadata": {},
     "output_type": "execute_result"
    }
   ],
   "source": [
    "df_walking.tail()"
   ]
  },
  {
   "cell_type": "code",
   "execution_count": 42,
   "id": "5e422326",
   "metadata": {},
   "outputs": [],
   "source": [
    "df_walking.to_csv('dataset_image_walking.csv', index=False) "
   ]
  },
  {
   "cell_type": "code",
   "execution_count": 43,
   "id": "3dc3764b",
   "metadata": {},
   "outputs": [],
   "source": [
    "folder_path = 'D:\\\\Saved_Images_walking'\n",
    "csv_file_path = 'C:\\\\Users\\\\ADMIN\\\\dataset_image_walking.csv'\n",
    "clean_folder_from_csv(folder_path, csv_file_path)"
   ]
  },
  {
   "cell_type": "markdown",
   "id": "bfff0140",
   "metadata": {},
   "source": [
    "## Volleyball_Data"
   ]
  },
  {
   "cell_type": "code",
   "execution_count": 44,
   "id": "1f97dd17",
   "metadata": {},
   "outputs": [
    {
     "data": {
      "text/plain": [
       "(1737, 2)"
      ]
     },
     "execution_count": 44,
     "metadata": {},
     "output_type": "execute_result"
    }
   ],
   "source": [
    "df_volleyball.shape"
   ]
  },
  {
   "cell_type": "code",
   "execution_count": 45,
   "id": "35b15b0c",
   "metadata": {},
   "outputs": [
    {
     "data": {
      "text/plain": [
       "(1507, 2)"
      ]
     },
     "execution_count": 45,
     "metadata": {},
     "output_type": "execute_result"
    }
   ],
   "source": [
    "df_volleyball = df_volleyball[~df_volleyball.applymap(lambda x: x == 'no_alt_text').any(axis=1)]\n",
    "df_volleyball.shape"
   ]
  },
  {
   "cell_type": "code",
   "execution_count": 46,
   "id": "43f967c0",
   "metadata": {},
   "outputs": [
    {
     "data": {
      "text/html": [
       "<div>\n",
       "<style scoped>\n",
       "    .dataframe tbody tr th:only-of-type {\n",
       "        vertical-align: middle;\n",
       "    }\n",
       "\n",
       "    .dataframe tbody tr th {\n",
       "        vertical-align: top;\n",
       "    }\n",
       "\n",
       "    .dataframe thead th {\n",
       "        text-align: right;\n",
       "    }\n",
       "</style>\n",
       "<table border=\"1\" class=\"dataframe\">\n",
       "  <thead>\n",
       "    <tr style=\"text-align: right;\">\n",
       "      <th></th>\n",
       "      <th>Image Filename</th>\n",
       "      <th>Caption</th>\n",
       "    </tr>\n",
       "  </thead>\n",
       "  <tbody>\n",
       "    <tr>\n",
       "      <th>1720</th>\n",
       "      <td>image1721.jpg</td>\n",
       "      <td>Free Shirtless Men Playing Volleyball on the B...</td>\n",
       "    </tr>\n",
       "    <tr>\n",
       "      <th>1721</th>\n",
       "      <td>image1722.jpg</td>\n",
       "      <td>Free Woman in Bikini Holding Red and Yellow Vo...</td>\n",
       "    </tr>\n",
       "    <tr>\n",
       "      <th>1722</th>\n",
       "      <td>image1723.jpg</td>\n",
       "      <td>Free Men Playing Beach Volleyball Stock Photo</td>\n",
       "    </tr>\n",
       "    <tr>\n",
       "      <th>1735</th>\n",
       "      <td>image1736.jpg</td>\n",
       "      <td>Pexels Logo</td>\n",
       "    </tr>\n",
       "    <tr>\n",
       "      <th>1736</th>\n",
       "      <td>image1737.jpg</td>\n",
       "      <td>Powered by Onetrust</td>\n",
       "    </tr>\n",
       "  </tbody>\n",
       "</table>\n",
       "</div>"
      ],
      "text/plain": [
       "     Image Filename                                            Caption\n",
       "1720  image1721.jpg  Free Shirtless Men Playing Volleyball on the B...\n",
       "1721  image1722.jpg  Free Woman in Bikini Holding Red and Yellow Vo...\n",
       "1722  image1723.jpg      Free Men Playing Beach Volleyball Stock Photo\n",
       "1735  image1736.jpg                                        Pexels Logo\n",
       "1736  image1737.jpg                                Powered by Onetrust"
      ]
     },
     "execution_count": 46,
     "metadata": {},
     "output_type": "execute_result"
    }
   ],
   "source": [
    "df_volleyball.tail()"
   ]
  },
  {
   "cell_type": "code",
   "execution_count": 47,
   "id": "0e446378",
   "metadata": {},
   "outputs": [],
   "source": [
    "df_volleyball = df_volleyball.drop(df_volleyball.tail(2).index)\n",
    "df_volleyball.reset_index(drop=True, inplace=True)"
   ]
  },
  {
   "cell_type": "code",
   "execution_count": 48,
   "id": "cb95ffd4",
   "metadata": {},
   "outputs": [],
   "source": [
    "df_volleyball['Caption'] = df_volleyball['Caption'].apply(drop_unnecessary_token)\n",
    "df_volleyball['Caption'] = df_volleyball['Caption'].apply(to_sentence_case)"
   ]
  },
  {
   "cell_type": "code",
   "execution_count": 49,
   "id": "ca0c0d4c",
   "metadata": {},
   "outputs": [
    {
     "data": {
      "text/html": [
       "<div>\n",
       "<style scoped>\n",
       "    .dataframe tbody tr th:only-of-type {\n",
       "        vertical-align: middle;\n",
       "    }\n",
       "\n",
       "    .dataframe tbody tr th {\n",
       "        vertical-align: top;\n",
       "    }\n",
       "\n",
       "    .dataframe thead th {\n",
       "        text-align: right;\n",
       "    }\n",
       "</style>\n",
       "<table border=\"1\" class=\"dataframe\">\n",
       "  <thead>\n",
       "    <tr style=\"text-align: right;\">\n",
       "      <th></th>\n",
       "      <th>Image Filename</th>\n",
       "      <th>Caption</th>\n",
       "    </tr>\n",
       "  </thead>\n",
       "  <tbody>\n",
       "    <tr>\n",
       "      <th>1500</th>\n",
       "      <td>image1719.jpg</td>\n",
       "      <td>The lights through the deep ocean of india</td>\n",
       "    </tr>\n",
       "    <tr>\n",
       "      <th>1501</th>\n",
       "      <td>image1720.jpg</td>\n",
       "      <td>Maldivian traditional dhoni sailing</td>\n",
       "    </tr>\n",
       "    <tr>\n",
       "      <th>1502</th>\n",
       "      <td>image1721.jpg</td>\n",
       "      <td>Shirtless men playing volleyball on the beach ...</td>\n",
       "    </tr>\n",
       "    <tr>\n",
       "      <th>1503</th>\n",
       "      <td>image1722.jpg</td>\n",
       "      <td>Woman in bikini holding red and yellow volleyb...</td>\n",
       "    </tr>\n",
       "    <tr>\n",
       "      <th>1504</th>\n",
       "      <td>image1723.jpg</td>\n",
       "      <td>Men playing beach volleyball</td>\n",
       "    </tr>\n",
       "  </tbody>\n",
       "</table>\n",
       "</div>"
      ],
      "text/plain": [
       "     Image Filename                                            Caption\n",
       "1500  image1719.jpg         The lights through the deep ocean of india\n",
       "1501  image1720.jpg                Maldivian traditional dhoni sailing\n",
       "1502  image1721.jpg  Shirtless men playing volleyball on the beach ...\n",
       "1503  image1722.jpg  Woman in bikini holding red and yellow volleyb...\n",
       "1504  image1723.jpg                       Men playing beach volleyball"
      ]
     },
     "execution_count": 49,
     "metadata": {},
     "output_type": "execute_result"
    }
   ],
   "source": [
    "df_volleyball.tail()"
   ]
  },
  {
   "cell_type": "code",
   "execution_count": 50,
   "id": "0f946bb4",
   "metadata": {},
   "outputs": [],
   "source": [
    "df_volleyball.to_csv('dataset_image_volleyball.csv', index=False) "
   ]
  },
  {
   "cell_type": "code",
   "execution_count": 51,
   "id": "06a3ec2e",
   "metadata": {},
   "outputs": [],
   "source": [
    "folder_path = 'D:\\\\Saved_Images_volleyball'\n",
    "csv_file_path = 'C:\\\\Users\\\\ADMIN\\\\dataset_image_volleyball.csv'\n",
    "clean_folder_from_csv(folder_path, csv_file_path)"
   ]
  },
  {
   "cell_type": "markdown",
   "id": "4cf5bd5f",
   "metadata": {},
   "source": [
    "## Tennis_Data"
   ]
  },
  {
   "cell_type": "code",
   "execution_count": 52,
   "id": "9d49032c",
   "metadata": {},
   "outputs": [
    {
     "data": {
      "text/plain": [
       "(2019, 2)"
      ]
     },
     "execution_count": 52,
     "metadata": {},
     "output_type": "execute_result"
    }
   ],
   "source": [
    "df_tennis.shape"
   ]
  },
  {
   "cell_type": "code",
   "execution_count": 53,
   "id": "9cac4490",
   "metadata": {},
   "outputs": [
    {
     "data": {
      "text/plain": [
       "(1760, 2)"
      ]
     },
     "execution_count": 53,
     "metadata": {},
     "output_type": "execute_result"
    }
   ],
   "source": [
    "df_tennis = df_tennis[~df_tennis.applymap(lambda x: x == 'no_alt_text').any(axis=1)]\n",
    "df_tennis.shape"
   ]
  },
  {
   "cell_type": "code",
   "execution_count": 54,
   "id": "46aeee05",
   "metadata": {},
   "outputs": [
    {
     "data": {
      "text/html": [
       "<div>\n",
       "<style scoped>\n",
       "    .dataframe tbody tr th:only-of-type {\n",
       "        vertical-align: middle;\n",
       "    }\n",
       "\n",
       "    .dataframe tbody tr th {\n",
       "        vertical-align: top;\n",
       "    }\n",
       "\n",
       "    .dataframe thead th {\n",
       "        text-align: right;\n",
       "    }\n",
       "</style>\n",
       "<table border=\"1\" class=\"dataframe\">\n",
       "  <thead>\n",
       "    <tr style=\"text-align: right;\">\n",
       "      <th></th>\n",
       "      <th>Image Filename</th>\n",
       "      <th>Caption</th>\n",
       "    </tr>\n",
       "  </thead>\n",
       "  <tbody>\n",
       "    <tr>\n",
       "      <th>2014</th>\n",
       "      <td>image2015.jpg</td>\n",
       "      <td>Free Green Tennis Balls on the Ground Stock Photo</td>\n",
       "    </tr>\n",
       "    <tr>\n",
       "      <th>2015</th>\n",
       "      <td>image2016.jpg</td>\n",
       "      <td>Free Table Tennis Rackets on Grass Stock Photo</td>\n",
       "    </tr>\n",
       "    <tr>\n",
       "      <th>2016</th>\n",
       "      <td>image2017.jpg</td>\n",
       "      <td>Free Squash Tennis Court  Stock Photo</td>\n",
       "    </tr>\n",
       "    <tr>\n",
       "      <th>2017</th>\n",
       "      <td>image2018.jpg</td>\n",
       "      <td>Pexels Logo</td>\n",
       "    </tr>\n",
       "    <tr>\n",
       "      <th>2018</th>\n",
       "      <td>image2019.jpg</td>\n",
       "      <td>Powered by Onetrust</td>\n",
       "    </tr>\n",
       "  </tbody>\n",
       "</table>\n",
       "</div>"
      ],
      "text/plain": [
       "     Image Filename                                            Caption\n",
       "2014  image2015.jpg  Free Green Tennis Balls on the Ground Stock Photo\n",
       "2015  image2016.jpg     Free Table Tennis Rackets on Grass Stock Photo\n",
       "2016  image2017.jpg              Free Squash Tennis Court  Stock Photo\n",
       "2017  image2018.jpg                                        Pexels Logo\n",
       "2018  image2019.jpg                                Powered by Onetrust"
      ]
     },
     "execution_count": 54,
     "metadata": {},
     "output_type": "execute_result"
    }
   ],
   "source": [
    "df_tennis.tail()"
   ]
  },
  {
   "cell_type": "code",
   "execution_count": 55,
   "id": "f30eae85",
   "metadata": {},
   "outputs": [],
   "source": [
    "df_tennis = df_tennis.drop(df_tennis.tail(2).index)\n",
    "df_tennis.reset_index(drop=True, inplace=True)"
   ]
  },
  {
   "cell_type": "code",
   "execution_count": 56,
   "id": "6c33d70e",
   "metadata": {},
   "outputs": [],
   "source": [
    "df_tennis['Caption'] = df_tennis['Caption'].apply(drop_unnecessary_token)\n",
    "df_tennis['Caption'] = df_tennis['Caption'].apply(to_sentence_case)"
   ]
  },
  {
   "cell_type": "code",
   "execution_count": 57,
   "id": "bbde6f87",
   "metadata": {},
   "outputs": [
    {
     "data": {
      "text/html": [
       "<div>\n",
       "<style scoped>\n",
       "    .dataframe tbody tr th:only-of-type {\n",
       "        vertical-align: middle;\n",
       "    }\n",
       "\n",
       "    .dataframe tbody tr th {\n",
       "        vertical-align: top;\n",
       "    }\n",
       "\n",
       "    .dataframe thead th {\n",
       "        text-align: right;\n",
       "    }\n",
       "</style>\n",
       "<table border=\"1\" class=\"dataframe\">\n",
       "  <thead>\n",
       "    <tr style=\"text-align: right;\">\n",
       "      <th></th>\n",
       "      <th>Image Filename</th>\n",
       "      <th>Caption</th>\n",
       "    </tr>\n",
       "  </thead>\n",
       "  <tbody>\n",
       "    <tr>\n",
       "      <th>1753</th>\n",
       "      <td>image2013.jpg</td>\n",
       "      <td>Woman leaning on a tree</td>\n",
       "    </tr>\n",
       "    <tr>\n",
       "      <th>1754</th>\n",
       "      <td>image2014.jpg</td>\n",
       "      <td>Dogs playing with tennis balls on hilltop</td>\n",
       "    </tr>\n",
       "    <tr>\n",
       "      <th>1755</th>\n",
       "      <td>image2015.jpg</td>\n",
       "      <td>Green tennis balls on the ground</td>\n",
       "    </tr>\n",
       "    <tr>\n",
       "      <th>1756</th>\n",
       "      <td>image2016.jpg</td>\n",
       "      <td>Table tennis rackets on grass</td>\n",
       "    </tr>\n",
       "    <tr>\n",
       "      <th>1757</th>\n",
       "      <td>image2017.jpg</td>\n",
       "      <td>Squash tennis court</td>\n",
       "    </tr>\n",
       "  </tbody>\n",
       "</table>\n",
       "</div>"
      ],
      "text/plain": [
       "     Image Filename                                    Caption\n",
       "1753  image2013.jpg                    Woman leaning on a tree\n",
       "1754  image2014.jpg  Dogs playing with tennis balls on hilltop\n",
       "1755  image2015.jpg           Green tennis balls on the ground\n",
       "1756  image2016.jpg              Table tennis rackets on grass\n",
       "1757  image2017.jpg                        Squash tennis court"
      ]
     },
     "execution_count": 57,
     "metadata": {},
     "output_type": "execute_result"
    }
   ],
   "source": [
    "df_tennis.tail()"
   ]
  },
  {
   "cell_type": "code",
   "execution_count": 58,
   "id": "d4b81c18",
   "metadata": {},
   "outputs": [],
   "source": [
    "df_tennis.to_csv('dataset_image_tennis.csv', index=False)"
   ]
  },
  {
   "cell_type": "code",
   "execution_count": 59,
   "id": "966bdd10",
   "metadata": {},
   "outputs": [],
   "source": [
    "folder_path = 'D:\\\\Saved_Images_tennis'\n",
    "csv_file_path = 'C:\\\\Users\\\\ADMIN\\\\dataset_image_tennis.csv'\n",
    "clean_folder_from_csv(folder_path, csv_file_path)"
   ]
  },
  {
   "cell_type": "markdown",
   "id": "ecf3d157",
   "metadata": {},
   "source": [
    "## Soccer_Data "
   ]
  },
  {
   "cell_type": "code",
   "execution_count": 13,
   "id": "10fe6d84",
   "metadata": {},
   "outputs": [
    {
     "data": {
      "text/html": [
       "<div>\n",
       "<style scoped>\n",
       "    .dataframe tbody tr th:only-of-type {\n",
       "        vertical-align: middle;\n",
       "    }\n",
       "\n",
       "    .dataframe tbody tr th {\n",
       "        vertical-align: top;\n",
       "    }\n",
       "\n",
       "    .dataframe thead th {\n",
       "        text-align: right;\n",
       "    }\n",
       "</style>\n",
       "<table border=\"1\" class=\"dataframe\">\n",
       "  <thead>\n",
       "    <tr style=\"text-align: right;\">\n",
       "      <th></th>\n",
       "      <th>Image Filename</th>\n",
       "      <th>Caption</th>\n",
       "    </tr>\n",
       "  </thead>\n",
       "  <tbody>\n",
       "    <tr>\n",
       "      <th>663</th>\n",
       "      <td>image664.jpg</td>\n",
       "      <td>Free Photo of Man Holding His Child While Walk...</td>\n",
       "    </tr>\n",
       "    <tr>\n",
       "      <th>664</th>\n",
       "      <td>image665.jpg</td>\n",
       "      <td>Free A Player Stepping on a Soccer Ball Stock ...</td>\n",
       "    </tr>\n",
       "    <tr>\n",
       "      <th>665</th>\n",
       "      <td>image666.jpg</td>\n",
       "      <td>Free Photo of a Crowd with Drums Celebrating i...</td>\n",
       "    </tr>\n",
       "    <tr>\n",
       "      <th>666</th>\n",
       "      <td>image667.jpg</td>\n",
       "      <td>Pexels Logo</td>\n",
       "    </tr>\n",
       "    <tr>\n",
       "      <th>667</th>\n",
       "      <td>image668.jpg</td>\n",
       "      <td>Powered by Onetrust</td>\n",
       "    </tr>\n",
       "  </tbody>\n",
       "</table>\n",
       "</div>"
      ],
      "text/plain": [
       "    Image Filename                                            Caption\n",
       "663   image664.jpg  Free Photo of Man Holding His Child While Walk...\n",
       "664   image665.jpg  Free A Player Stepping on a Soccer Ball Stock ...\n",
       "665   image666.jpg  Free Photo of a Crowd with Drums Celebrating i...\n",
       "666   image667.jpg                                        Pexels Logo\n",
       "667   image668.jpg                                Powered by Onetrust"
      ]
     },
     "execution_count": 13,
     "metadata": {},
     "output_type": "execute_result"
    }
   ],
   "source": [
    "df_soccer.tail()"
   ]
  },
  {
   "cell_type": "code",
   "execution_count": 11,
   "id": "83b56aea",
   "metadata": {},
   "outputs": [
    {
     "data": {
      "text/plain": [
       "(668, 2)"
      ]
     },
     "execution_count": 11,
     "metadata": {},
     "output_type": "execute_result"
    }
   ],
   "source": [
    "df_soccer.shape"
   ]
  },
  {
   "cell_type": "code",
   "execution_count": 12,
   "id": "47338300",
   "metadata": {},
   "outputs": [
    {
     "data": {
      "text/plain": [
       "(576, 2)"
      ]
     },
     "execution_count": 12,
     "metadata": {},
     "output_type": "execute_result"
    }
   ],
   "source": [
    "df_soccer = df_soccer[~df_soccer.applymap(lambda x: x == 'no_alt_text').any(axis=1)]\n",
    "df_soccer.shape"
   ]
  },
  {
   "cell_type": "code",
   "execution_count": 14,
   "id": "406c9887",
   "metadata": {},
   "outputs": [],
   "source": [
    "df_soccer = df_soccer.drop(df_soccer.tail(2).index)\n",
    "df_soccer.reset_index(drop=True, inplace=True)"
   ]
  },
  {
   "cell_type": "code",
   "execution_count": 15,
   "id": "49950677",
   "metadata": {},
   "outputs": [],
   "source": [
    "df_soccer['Caption'] = df_soccer['Caption'].apply(drop_unnecessary_token)\n",
    "df_soccer['Caption'] = df_soccer['Caption'].apply(to_sentence_case)"
   ]
  },
  {
   "cell_type": "code",
   "execution_count": 16,
   "id": "5a54b367",
   "metadata": {},
   "outputs": [
    {
     "data": {
      "text/html": [
       "<div>\n",
       "<style scoped>\n",
       "    .dataframe tbody tr th:only-of-type {\n",
       "        vertical-align: middle;\n",
       "    }\n",
       "\n",
       "    .dataframe tbody tr th {\n",
       "        vertical-align: top;\n",
       "    }\n",
       "\n",
       "    .dataframe thead th {\n",
       "        text-align: right;\n",
       "    }\n",
       "</style>\n",
       "<table border=\"1\" class=\"dataframe\">\n",
       "  <thead>\n",
       "    <tr style=\"text-align: right;\">\n",
       "      <th></th>\n",
       "      <th>Image Filename</th>\n",
       "      <th>Caption</th>\n",
       "    </tr>\n",
       "  </thead>\n",
       "  <tbody>\n",
       "    <tr>\n",
       "      <th>569</th>\n",
       "      <td>image662.jpg</td>\n",
       "      <td>Stands of la bombonera stadium in buenos aires</td>\n",
       "    </tr>\n",
       "    <tr>\n",
       "      <th>570</th>\n",
       "      <td>image663.jpg</td>\n",
       "      <td>Empty wembley statdium in london</td>\n",
       "    </tr>\n",
       "    <tr>\n",
       "      <th>571</th>\n",
       "      <td>image664.jpg</td>\n",
       "      <td>Photo of man holding his child while walking o...</td>\n",
       "    </tr>\n",
       "    <tr>\n",
       "      <th>572</th>\n",
       "      <td>image665.jpg</td>\n",
       "      <td>A player stepping on a soccer ball</td>\n",
       "    </tr>\n",
       "    <tr>\n",
       "      <th>573</th>\n",
       "      <td>image666.jpg</td>\n",
       "      <td>Photo of a crowd with drums celebrating in the...</td>\n",
       "    </tr>\n",
       "  </tbody>\n",
       "</table>\n",
       "</div>"
      ],
      "text/plain": [
       "    Image Filename                                            Caption\n",
       "569   image662.jpg     Stands of la bombonera stadium in buenos aires\n",
       "570   image663.jpg                   Empty wembley statdium in london\n",
       "571   image664.jpg  Photo of man holding his child while walking o...\n",
       "572   image665.jpg                 A player stepping on a soccer ball\n",
       "573   image666.jpg  Photo of a crowd with drums celebrating in the..."
      ]
     },
     "execution_count": 16,
     "metadata": {},
     "output_type": "execute_result"
    }
   ],
   "source": [
    "df_soccer.tail()"
   ]
  },
  {
   "cell_type": "code",
   "execution_count": 17,
   "id": "215c82cc",
   "metadata": {},
   "outputs": [],
   "source": [
    "df_soccer.to_csv('dataset_image_soccer.csv', index=False)"
   ]
  },
  {
   "cell_type": "code",
   "execution_count": 18,
   "id": "052d793d",
   "metadata": {},
   "outputs": [],
   "source": [
    "folder_path = 'D:\\\\Saved_Images_soccer_1'\n",
    "csv_file_path = 'C:\\\\Users\\\\ADMIN\\\\dataset_image_soccer.csv'\n",
    "clean_folder_from_csv(folder_path, csv_file_path)"
   ]
  },
  {
   "cell_type": "code",
   "execution_count": 20,
   "id": "8e6583e0",
   "metadata": {},
   "outputs": [
    {
     "name": "stdout",
     "output_type": "stream",
     "text": [
      "Number of images in folder: 574\n"
     ]
    }
   ],
   "source": [
    "import os\n",
    "import glob\n",
    "\n",
    "def count_images_in_folder(folder_path):\n",
    "    \"\"\"\n",
    "    Counts the number of image files in the specified folder.\n",
    "\n",
    "    Parameters:\n",
    "    folder_path (str): The path to the folder containing the image files.\n",
    "\n",
    "    Returns:\n",
    "    int: The number of image files in the folder.\n",
    "    \"\"\"\n",
    "    # Define the list of image file extensions to look for\n",
    "    image_extensions = ['*.jpg', '*.jpeg', '*.png', '*.gif', '*.bmp', '*.tiff']\n",
    "\n",
    "    # Initialize the count of images\n",
    "    image_count = 0\n",
    "\n",
    "    # Iterate over each image extension pattern\n",
    "    for extension in image_extensions:\n",
    "        # Use glob to find files matching the extension pattern\n",
    "        image_count += len(glob.glob(os.path.join(folder_path, extension)))\n",
    "\n",
    "    return image_count\n",
    "\n",
    "# Example usage\n",
    "folder_path = 'D:\\\\Saved_Images_soccer_1'\n",
    "print(f\"Number of images in folder: {count_images_in_folder(folder_path)}\")"
   ]
  },
  {
   "cell_type": "markdown",
   "id": "da2c1498",
   "metadata": {},
   "source": [
    "## Skating_Data"
   ]
  },
  {
   "cell_type": "code",
   "execution_count": 71,
   "id": "f12ba159",
   "metadata": {},
   "outputs": [
    {
     "data": {
      "text/plain": [
       "(2064, 2)"
      ]
     },
     "execution_count": 71,
     "metadata": {},
     "output_type": "execute_result"
    }
   ],
   "source": [
    "df_skating.shape"
   ]
  },
  {
   "cell_type": "code",
   "execution_count": 72,
   "id": "d184d84a",
   "metadata": {},
   "outputs": [
    {
     "name": "stdout",
     "output_type": "stream",
     "text": [
      "Number of images in folder: 2064\n"
     ]
    }
   ],
   "source": [
    "f = 'D:\\\\Saved_Images_skating'\n",
    "print(f\"Number of images in folder: {count_images_in_folder(f)}\")"
   ]
  },
  {
   "cell_type": "code",
   "execution_count": 73,
   "id": "c1b6218e",
   "metadata": {},
   "outputs": [
    {
     "data": {
      "text/html": [
       "<div>\n",
       "<style scoped>\n",
       "    .dataframe tbody tr th:only-of-type {\n",
       "        vertical-align: middle;\n",
       "    }\n",
       "\n",
       "    .dataframe tbody tr th {\n",
       "        vertical-align: top;\n",
       "    }\n",
       "\n",
       "    .dataframe thead th {\n",
       "        text-align: right;\n",
       "    }\n",
       "</style>\n",
       "<table border=\"1\" class=\"dataframe\">\n",
       "  <thead>\n",
       "    <tr style=\"text-align: right;\">\n",
       "      <th></th>\n",
       "      <th>Image Filename</th>\n",
       "      <th>Caption</th>\n",
       "    </tr>\n",
       "  </thead>\n",
       "  <tbody>\n",
       "    <tr>\n",
       "      <th>2059</th>\n",
       "      <td>image2060.jpg</td>\n",
       "      <td>Free Close Up Shot of a Roller Skates Stock Photo</td>\n",
       "    </tr>\n",
       "    <tr>\n",
       "      <th>2060</th>\n",
       "      <td>image2061.jpg</td>\n",
       "      <td>Free Beautiful Woman Roller Skating  Stock Photo</td>\n",
       "    </tr>\n",
       "    <tr>\n",
       "      <th>2061</th>\n",
       "      <td>image2062.jpg</td>\n",
       "      <td>Free Smiling Woman in Roller Skates Lying on a...</td>\n",
       "    </tr>\n",
       "    <tr>\n",
       "      <th>2062</th>\n",
       "      <td>image2063.jpg</td>\n",
       "      <td>Pexels Logo</td>\n",
       "    </tr>\n",
       "    <tr>\n",
       "      <th>2063</th>\n",
       "      <td>image2064.jpg</td>\n",
       "      <td>Powered by Onetrust</td>\n",
       "    </tr>\n",
       "  </tbody>\n",
       "</table>\n",
       "</div>"
      ],
      "text/plain": [
       "     Image Filename                                            Caption\n",
       "2059  image2060.jpg  Free Close Up Shot of a Roller Skates Stock Photo\n",
       "2060  image2061.jpg   Free Beautiful Woman Roller Skating  Stock Photo\n",
       "2061  image2062.jpg  Free Smiling Woman in Roller Skates Lying on a...\n",
       "2062  image2063.jpg                                        Pexels Logo\n",
       "2063  image2064.jpg                                Powered by Onetrust"
      ]
     },
     "execution_count": 73,
     "metadata": {},
     "output_type": "execute_result"
    }
   ],
   "source": [
    "df_skating.tail()"
   ]
  },
  {
   "cell_type": "code",
   "execution_count": 74,
   "id": "680f4d4a",
   "metadata": {},
   "outputs": [
    {
     "data": {
      "text/plain": [
       "(1802, 2)"
      ]
     },
     "execution_count": 74,
     "metadata": {},
     "output_type": "execute_result"
    }
   ],
   "source": [
    "df_skating = df_skating[~df_skating.applymap(lambda x: x == 'no_alt_text').any(axis=1)]\n",
    "df_skating.shape"
   ]
  },
  {
   "cell_type": "code",
   "execution_count": 75,
   "id": "47b2b796",
   "metadata": {},
   "outputs": [],
   "source": [
    "df_skating = df_skating.drop(df_skating.tail(2).index)\n",
    "df_skating.reset_index(drop=True, inplace=True)"
   ]
  },
  {
   "cell_type": "code",
   "execution_count": 76,
   "id": "f9fbe799",
   "metadata": {},
   "outputs": [],
   "source": [
    "df_skating['Caption'] = df_skating['Caption'].apply(drop_unnecessary_token)\n",
    "df_skating['Caption'] = df_skating['Caption'].apply(to_sentence_case)"
   ]
  },
  {
   "cell_type": "code",
   "execution_count": 77,
   "id": "9206e861",
   "metadata": {},
   "outputs": [
    {
     "data": {
      "text/html": [
       "<div>\n",
       "<style scoped>\n",
       "    .dataframe tbody tr th:only-of-type {\n",
       "        vertical-align: middle;\n",
       "    }\n",
       "\n",
       "    .dataframe tbody tr th {\n",
       "        vertical-align: top;\n",
       "    }\n",
       "\n",
       "    .dataframe thead th {\n",
       "        text-align: right;\n",
       "    }\n",
       "</style>\n",
       "<table border=\"1\" class=\"dataframe\">\n",
       "  <thead>\n",
       "    <tr style=\"text-align: right;\">\n",
       "      <th></th>\n",
       "      <th>Image Filename</th>\n",
       "      <th>Caption</th>\n",
       "    </tr>\n",
       "  </thead>\n",
       "  <tbody>\n",
       "    <tr>\n",
       "      <th>1795</th>\n",
       "      <td>image2058.jpg</td>\n",
       "      <td>Two women wearing roller skates</td>\n",
       "    </tr>\n",
       "    <tr>\n",
       "      <th>1796</th>\n",
       "      <td>image2059.jpg</td>\n",
       "      <td>People wearing pink and blue roller skates</td>\n",
       "    </tr>\n",
       "    <tr>\n",
       "      <th>1797</th>\n",
       "      <td>image2060.jpg</td>\n",
       "      <td>Close up shot of a roller skates</td>\n",
       "    </tr>\n",
       "    <tr>\n",
       "      <th>1798</th>\n",
       "      <td>image2061.jpg</td>\n",
       "      <td>Beautiful woman roller skating</td>\n",
       "    </tr>\n",
       "    <tr>\n",
       "      <th>1799</th>\n",
       "      <td>image2062.jpg</td>\n",
       "      <td>Smiling woman in roller skates lying on a benc...</td>\n",
       "    </tr>\n",
       "  </tbody>\n",
       "</table>\n",
       "</div>"
      ],
      "text/plain": [
       "     Image Filename                                            Caption\n",
       "1795  image2058.jpg                    Two women wearing roller skates\n",
       "1796  image2059.jpg         People wearing pink and blue roller skates\n",
       "1797  image2060.jpg                   Close up shot of a roller skates\n",
       "1798  image2061.jpg                     Beautiful woman roller skating\n",
       "1799  image2062.jpg  Smiling woman in roller skates lying on a benc..."
      ]
     },
     "execution_count": 77,
     "metadata": {},
     "output_type": "execute_result"
    }
   ],
   "source": [
    "df_skating.tail()"
   ]
  },
  {
   "cell_type": "code",
   "execution_count": 79,
   "id": "426f43a4",
   "metadata": {},
   "outputs": [],
   "source": [
    "df_skating.to_csv('dataset_image_skating.csv', index=False)"
   ]
  },
  {
   "cell_type": "code",
   "execution_count": 80,
   "id": "0a8e0d59",
   "metadata": {},
   "outputs": [],
   "source": [
    "folder_path = 'D:\\\\Saved_Images_skating'\n",
    "csv_file_path = 'C:\\\\Users\\\\ADMIN\\\\dataset_image_skating.csv'\n",
    "clean_folder_from_csv(folder_path, csv_file_path)"
   ]
  },
  {
   "cell_type": "code",
   "execution_count": 81,
   "id": "e5e2c2f4",
   "metadata": {},
   "outputs": [
    {
     "name": "stdout",
     "output_type": "stream",
     "text": [
      "Number of images in folder: 1800\n"
     ]
    }
   ],
   "source": [
    "f = 'D:\\\\Saved_Images_skating'\n",
    "print(f\"Number of images in folder: {count_images_in_folder(f)}\")"
   ]
  },
  {
   "cell_type": "markdown",
   "id": "c9a9763a",
   "metadata": {},
   "source": [
    "## Run_Data"
   ]
  },
  {
   "cell_type": "code",
   "execution_count": 82,
   "id": "a25fe3d7",
   "metadata": {},
   "outputs": [
    {
     "data": {
      "text/plain": [
       "(1426, 2)"
      ]
     },
     "execution_count": 82,
     "metadata": {},
     "output_type": "execute_result"
    }
   ],
   "source": [
    "df_run.shape"
   ]
  },
  {
   "cell_type": "code",
   "execution_count": 83,
   "id": "0fcdee4f",
   "metadata": {},
   "outputs": [
    {
     "data": {
      "text/html": [
       "<div>\n",
       "<style scoped>\n",
       "    .dataframe tbody tr th:only-of-type {\n",
       "        vertical-align: middle;\n",
       "    }\n",
       "\n",
       "    .dataframe tbody tr th {\n",
       "        vertical-align: top;\n",
       "    }\n",
       "\n",
       "    .dataframe thead th {\n",
       "        text-align: right;\n",
       "    }\n",
       "</style>\n",
       "<table border=\"1\" class=\"dataframe\">\n",
       "  <thead>\n",
       "    <tr style=\"text-align: right;\">\n",
       "      <th></th>\n",
       "      <th>Image Filename</th>\n",
       "      <th>Caption</th>\n",
       "    </tr>\n",
       "  </thead>\n",
       "  <tbody>\n",
       "    <tr>\n",
       "      <th>1421</th>\n",
       "      <td>image1422.jpg</td>\n",
       "      <td>Free Person in Jacket Running on Snow Covered ...</td>\n",
       "    </tr>\n",
       "    <tr>\n",
       "      <th>1422</th>\n",
       "      <td>image1423.jpg</td>\n",
       "      <td>Free Man and Woman on a Treadmill Stock Photo</td>\n",
       "    </tr>\n",
       "    <tr>\n",
       "      <th>1423</th>\n",
       "      <td>image1424.jpg</td>\n",
       "      <td>Free Young Boys Running while Playing Football...</td>\n",
       "    </tr>\n",
       "    <tr>\n",
       "      <th>1424</th>\n",
       "      <td>image1425.jpg</td>\n",
       "      <td>Pexels Logo</td>\n",
       "    </tr>\n",
       "    <tr>\n",
       "      <th>1425</th>\n",
       "      <td>image1426.jpg</td>\n",
       "      <td>Powered by Onetrust</td>\n",
       "    </tr>\n",
       "  </tbody>\n",
       "</table>\n",
       "</div>"
      ],
      "text/plain": [
       "     Image Filename                                            Caption\n",
       "1421  image1422.jpg  Free Person in Jacket Running on Snow Covered ...\n",
       "1422  image1423.jpg      Free Man and Woman on a Treadmill Stock Photo\n",
       "1423  image1424.jpg  Free Young Boys Running while Playing Football...\n",
       "1424  image1425.jpg                                        Pexels Logo\n",
       "1425  image1426.jpg                                Powered by Onetrust"
      ]
     },
     "execution_count": 83,
     "metadata": {},
     "output_type": "execute_result"
    }
   ],
   "source": [
    "df_run.tail()"
   ]
  },
  {
   "cell_type": "code",
   "execution_count": 85,
   "id": "57f85c3b",
   "metadata": {},
   "outputs": [
    {
     "name": "stdout",
     "output_type": "stream",
     "text": [
      "Number of images in folder: 1424\n"
     ]
    }
   ],
   "source": [
    "f = 'D:\\\\Saved_Images_run'\n",
    "print(f\"Number of images in folder: {count_images_in_folder(f)}\")"
   ]
  },
  {
   "cell_type": "code",
   "execution_count": 86,
   "id": "e4a541c0",
   "metadata": {},
   "outputs": [
    {
     "data": {
      "text/plain": [
       "(1250, 2)"
      ]
     },
     "execution_count": 86,
     "metadata": {},
     "output_type": "execute_result"
    }
   ],
   "source": [
    "df_run = df_run[~df_run.applymap(lambda x: x == 'no_alt_text').any(axis=1)]\n",
    "df_run.shape"
   ]
  },
  {
   "cell_type": "code",
   "execution_count": 87,
   "id": "57622aa5",
   "metadata": {},
   "outputs": [],
   "source": [
    "df_run = df_run.drop(df_run.tail(2).index)\n",
    "df_run.reset_index(drop=True, inplace=True)"
   ]
  },
  {
   "cell_type": "code",
   "execution_count": 88,
   "id": "0bffb1db",
   "metadata": {},
   "outputs": [],
   "source": [
    "df_run['Caption'] = df_run['Caption'].apply(drop_unnecessary_token)\n",
    "df_run['Caption'] = df_run['Caption'].apply(to_sentence_case)"
   ]
  },
  {
   "cell_type": "code",
   "execution_count": 89,
   "id": "f99d5854",
   "metadata": {},
   "outputs": [
    {
     "data": {
      "text/html": [
       "<div>\n",
       "<style scoped>\n",
       "    .dataframe tbody tr th:only-of-type {\n",
       "        vertical-align: middle;\n",
       "    }\n",
       "\n",
       "    .dataframe tbody tr th {\n",
       "        vertical-align: top;\n",
       "    }\n",
       "\n",
       "    .dataframe thead th {\n",
       "        text-align: right;\n",
       "    }\n",
       "</style>\n",
       "<table border=\"1\" class=\"dataframe\">\n",
       "  <thead>\n",
       "    <tr style=\"text-align: right;\">\n",
       "      <th></th>\n",
       "      <th>Image Filename</th>\n",
       "      <th>Caption</th>\n",
       "    </tr>\n",
       "  </thead>\n",
       "  <tbody>\n",
       "    <tr>\n",
       "      <th>1243</th>\n",
       "      <td>image1420.jpg</td>\n",
       "      <td>Man wearing jacket and black shorts running in...</td>\n",
       "    </tr>\n",
       "    <tr>\n",
       "      <th>1244</th>\n",
       "      <td>image1421.jpg</td>\n",
       "      <td>Photo of woman holding hands with man</td>\n",
       "    </tr>\n",
       "    <tr>\n",
       "      <th>1245</th>\n",
       "      <td>image1422.jpg</td>\n",
       "      <td>Person in jacket running on snow covered ground</td>\n",
       "    </tr>\n",
       "    <tr>\n",
       "      <th>1246</th>\n",
       "      <td>image1423.jpg</td>\n",
       "      <td>Man and woman on a treadmill</td>\n",
       "    </tr>\n",
       "    <tr>\n",
       "      <th>1247</th>\n",
       "      <td>image1424.jpg</td>\n",
       "      <td>Young boys running while playing football</td>\n",
       "    </tr>\n",
       "  </tbody>\n",
       "</table>\n",
       "</div>"
      ],
      "text/plain": [
       "     Image Filename                                            Caption\n",
       "1243  image1420.jpg  Man wearing jacket and black shorts running in...\n",
       "1244  image1421.jpg              Photo of woman holding hands with man\n",
       "1245  image1422.jpg    Person in jacket running on snow covered ground\n",
       "1246  image1423.jpg                       Man and woman on a treadmill\n",
       "1247  image1424.jpg          Young boys running while playing football"
      ]
     },
     "execution_count": 89,
     "metadata": {},
     "output_type": "execute_result"
    }
   ],
   "source": [
    "df_run.tail()"
   ]
  },
  {
   "cell_type": "code",
   "execution_count": 90,
   "id": "d5e51a2d",
   "metadata": {},
   "outputs": [
    {
     "data": {
      "text/plain": [
       "(1248, 2)"
      ]
     },
     "execution_count": 90,
     "metadata": {},
     "output_type": "execute_result"
    }
   ],
   "source": [
    "df_run.shape"
   ]
  },
  {
   "cell_type": "code",
   "execution_count": 92,
   "id": "a2629796",
   "metadata": {},
   "outputs": [],
   "source": [
    "df_run.to_csv('dataset_image_run.csv', index=False)"
   ]
  },
  {
   "cell_type": "code",
   "execution_count": 93,
   "id": "e65f0048",
   "metadata": {},
   "outputs": [],
   "source": [
    "folder_path = 'D:\\\\Saved_Images_run'\n",
    "csv_file_path = 'C:\\\\Users\\\\ADMIN\\\\dataset_image_run.csv'\n",
    "clean_folder_from_csv(folder_path, csv_file_path)"
   ]
  },
  {
   "cell_type": "code",
   "execution_count": 94,
   "id": "7f6d1150",
   "metadata": {},
   "outputs": [
    {
     "name": "stdout",
     "output_type": "stream",
     "text": [
      "Number of images in folder: 1248\n"
     ]
    }
   ],
   "source": [
    "f = 'D:\\\\Saved_Images_run'\n",
    "print(f\"Number of images in folder: {count_images_in_folder(f)}\")"
   ]
  },
  {
   "cell_type": "markdown",
   "id": "0dc5908e",
   "metadata": {},
   "source": [
    "## Racing_Data"
   ]
  },
  {
   "cell_type": "code",
   "execution_count": 95,
   "id": "ce9319c8",
   "metadata": {},
   "outputs": [
    {
     "data": {
      "text/plain": [
       "(2303, 2)"
      ]
     },
     "execution_count": 95,
     "metadata": {},
     "output_type": "execute_result"
    }
   ],
   "source": [
    "df_racing.shape"
   ]
  },
  {
   "cell_type": "code",
   "execution_count": 96,
   "id": "b49c235f",
   "metadata": {},
   "outputs": [
    {
     "data": {
      "text/html": [
       "<div>\n",
       "<style scoped>\n",
       "    .dataframe tbody tr th:only-of-type {\n",
       "        vertical-align: middle;\n",
       "    }\n",
       "\n",
       "    .dataframe tbody tr th {\n",
       "        vertical-align: top;\n",
       "    }\n",
       "\n",
       "    .dataframe thead th {\n",
       "        text-align: right;\n",
       "    }\n",
       "</style>\n",
       "<table border=\"1\" class=\"dataframe\">\n",
       "  <thead>\n",
       "    <tr style=\"text-align: right;\">\n",
       "      <th></th>\n",
       "      <th>Image Filename</th>\n",
       "      <th>Caption</th>\n",
       "    </tr>\n",
       "  </thead>\n",
       "  <tbody>\n",
       "    <tr>\n",
       "      <th>2298</th>\n",
       "      <td>image2299.jpg</td>\n",
       "      <td>Free Man in White Shirt Watching Woman in Whit...</td>\n",
       "    </tr>\n",
       "    <tr>\n",
       "      <th>2299</th>\n",
       "      <td>image2300.jpg</td>\n",
       "      <td>Free People Eating Baby Girl's Birthday Cake S...</td>\n",
       "    </tr>\n",
       "    <tr>\n",
       "      <th>2300</th>\n",
       "      <td>image2301.jpg</td>\n",
       "      <td>Free Woman with Curly Hair in White Crop Top H...</td>\n",
       "    </tr>\n",
       "    <tr>\n",
       "      <th>2301</th>\n",
       "      <td>image2302.jpg</td>\n",
       "      <td>Pexels Logo</td>\n",
       "    </tr>\n",
       "    <tr>\n",
       "      <th>2302</th>\n",
       "      <td>image2303.jpg</td>\n",
       "      <td>Powered by Onetrust</td>\n",
       "    </tr>\n",
       "  </tbody>\n",
       "</table>\n",
       "</div>"
      ],
      "text/plain": [
       "     Image Filename                                            Caption\n",
       "2298  image2299.jpg  Free Man in White Shirt Watching Woman in Whit...\n",
       "2299  image2300.jpg  Free People Eating Baby Girl's Birthday Cake S...\n",
       "2300  image2301.jpg  Free Woman with Curly Hair in White Crop Top H...\n",
       "2301  image2302.jpg                                        Pexels Logo\n",
       "2302  image2303.jpg                                Powered by Onetrust"
      ]
     },
     "execution_count": 96,
     "metadata": {},
     "output_type": "execute_result"
    }
   ],
   "source": [
    "df_racing.tail()"
   ]
  },
  {
   "cell_type": "code",
   "execution_count": 97,
   "id": "03eb8742",
   "metadata": {},
   "outputs": [
    {
     "name": "stdout",
     "output_type": "stream",
     "text": [
      "Number of images in folder: 2303\n"
     ]
    }
   ],
   "source": [
    "f = 'D:\\\\Saved_Images_racing'\n",
    "print(f\"Number of images in folder: {count_images_in_folder(f)}\")"
   ]
  },
  {
   "cell_type": "code",
   "execution_count": 98,
   "id": "d0feba42",
   "metadata": {},
   "outputs": [
    {
     "data": {
      "text/plain": [
       "(2017, 2)"
      ]
     },
     "execution_count": 98,
     "metadata": {},
     "output_type": "execute_result"
    }
   ],
   "source": [
    "df_racing = df_racing[~df_racing.applymap(lambda x: x == 'no_alt_text').any(axis=1)]\n",
    "df_racing.shape"
   ]
  },
  {
   "cell_type": "code",
   "execution_count": 99,
   "id": "1b74f0c8",
   "metadata": {},
   "outputs": [],
   "source": [
    "df_racing = df_racing.drop(df_racing.tail(2).index)\n",
    "df_racing.reset_index(drop=True, inplace=True)"
   ]
  },
  {
   "cell_type": "code",
   "execution_count": 100,
   "id": "64f2e1ed",
   "metadata": {},
   "outputs": [],
   "source": [
    "df_racing['Caption'] = df_racing['Caption'].apply(drop_unnecessary_token)\n",
    "df_racing['Caption'] = df_racing['Caption'].apply(to_sentence_case)"
   ]
  },
  {
   "cell_type": "code",
   "execution_count": 101,
   "id": "706b9b7c",
   "metadata": {},
   "outputs": [
    {
     "data": {
      "text/html": [
       "<div>\n",
       "<style scoped>\n",
       "    .dataframe tbody tr th:only-of-type {\n",
       "        vertical-align: middle;\n",
       "    }\n",
       "\n",
       "    .dataframe tbody tr th {\n",
       "        vertical-align: top;\n",
       "    }\n",
       "\n",
       "    .dataframe thead th {\n",
       "        text-align: right;\n",
       "    }\n",
       "</style>\n",
       "<table border=\"1\" class=\"dataframe\">\n",
       "  <thead>\n",
       "    <tr style=\"text-align: right;\">\n",
       "      <th></th>\n",
       "      <th>Image Filename</th>\n",
       "      <th>Caption</th>\n",
       "    </tr>\n",
       "  </thead>\n",
       "  <tbody>\n",
       "    <tr>\n",
       "      <th>2010</th>\n",
       "      <td>image2297.jpg</td>\n",
       "      <td>Closeup of a race drivers hands and gloves</td>\n",
       "    </tr>\n",
       "    <tr>\n",
       "      <th>2011</th>\n",
       "      <td>image2298.jpg</td>\n",
       "      <td>A woman driving with a vr headset</td>\n",
       "    </tr>\n",
       "    <tr>\n",
       "      <th>2012</th>\n",
       "      <td>image2299.jpg</td>\n",
       "      <td>Man in white shirt watching woman in white dre...</td>\n",
       "    </tr>\n",
       "    <tr>\n",
       "      <th>2013</th>\n",
       "      <td>image2300.jpg</td>\n",
       "      <td>People eating baby girl's birthday cake</td>\n",
       "    </tr>\n",
       "    <tr>\n",
       "      <th>2014</th>\n",
       "      <td>image2301.jpg</td>\n",
       "      <td>Woman with curly hair in white crop top holdin...</td>\n",
       "    </tr>\n",
       "  </tbody>\n",
       "</table>\n",
       "</div>"
      ],
      "text/plain": [
       "     Image Filename                                            Caption\n",
       "2010  image2297.jpg         Closeup of a race drivers hands and gloves\n",
       "2011  image2298.jpg                  A woman driving with a vr headset\n",
       "2012  image2299.jpg  Man in white shirt watching woman in white dre...\n",
       "2013  image2300.jpg            People eating baby girl's birthday cake\n",
       "2014  image2301.jpg  Woman with curly hair in white crop top holdin..."
      ]
     },
     "execution_count": 101,
     "metadata": {},
     "output_type": "execute_result"
    }
   ],
   "source": [
    "df_racing.tail()"
   ]
  },
  {
   "cell_type": "code",
   "execution_count": 102,
   "id": "04072fbd",
   "metadata": {},
   "outputs": [
    {
     "data": {
      "text/plain": [
       "(2015, 2)"
      ]
     },
     "execution_count": 102,
     "metadata": {},
     "output_type": "execute_result"
    }
   ],
   "source": [
    "df_racing.shape"
   ]
  },
  {
   "cell_type": "code",
   "execution_count": 103,
   "id": "9c70ae82",
   "metadata": {},
   "outputs": [],
   "source": [
    "df_racing.to_csv('dataset_image_racing.csv', index=False)"
   ]
  },
  {
   "cell_type": "code",
   "execution_count": 104,
   "id": "36cc41ae",
   "metadata": {},
   "outputs": [],
   "source": [
    "folder_path = 'D:\\\\Saved_Images_racing'\n",
    "csv_file_path = 'C:\\\\Users\\\\ADMIN\\\\dataset_image_racing.csv'\n",
    "clean_folder_from_csv(folder_path, csv_file_path)"
   ]
  },
  {
   "cell_type": "code",
   "execution_count": 105,
   "id": "7ff10bd1",
   "metadata": {},
   "outputs": [
    {
     "name": "stdout",
     "output_type": "stream",
     "text": [
      "Number of images in folder: 2015\n"
     ]
    }
   ],
   "source": [
    "f = 'D:\\\\Saved_Images_racing'\n",
    "print(f\"Number of images in folder: {count_images_in_folder(f)}\")"
   ]
  },
  {
   "cell_type": "markdown",
   "id": "a6567130",
   "metadata": {},
   "source": [
    "## Karate_Data"
   ]
  },
  {
   "cell_type": "code",
   "execution_count": 106,
   "id": "47866be3",
   "metadata": {},
   "outputs": [
    {
     "data": {
      "text/plain": [
       "(362, 2)"
      ]
     },
     "execution_count": 106,
     "metadata": {},
     "output_type": "execute_result"
    }
   ],
   "source": [
    "df_karate.shape"
   ]
  },
  {
   "cell_type": "code",
   "execution_count": 107,
   "id": "6468ce89",
   "metadata": {},
   "outputs": [
    {
     "data": {
      "text/html": [
       "<div>\n",
       "<style scoped>\n",
       "    .dataframe tbody tr th:only-of-type {\n",
       "        vertical-align: middle;\n",
       "    }\n",
       "\n",
       "    .dataframe tbody tr th {\n",
       "        vertical-align: top;\n",
       "    }\n",
       "\n",
       "    .dataframe thead th {\n",
       "        text-align: right;\n",
       "    }\n",
       "</style>\n",
       "<table border=\"1\" class=\"dataframe\">\n",
       "  <thead>\n",
       "    <tr style=\"text-align: right;\">\n",
       "      <th></th>\n",
       "      <th>Image Filename</th>\n",
       "      <th>Caption</th>\n",
       "    </tr>\n",
       "  </thead>\n",
       "  <tbody>\n",
       "    <tr>\n",
       "      <th>357</th>\n",
       "      <td>image358.jpg</td>\n",
       "      <td>Free Two Men in Karate Uniform Sparring Stock ...</td>\n",
       "    </tr>\n",
       "    <tr>\n",
       "      <th>358</th>\n",
       "      <td>image359.jpg</td>\n",
       "      <td>Free Man With Braided Hair Wearing Gray Karate...</td>\n",
       "    </tr>\n",
       "    <tr>\n",
       "      <th>359</th>\n",
       "      <td>image360.jpg</td>\n",
       "      <td>Free Handshake Before Fight Stock Photo</td>\n",
       "    </tr>\n",
       "    <tr>\n",
       "      <th>360</th>\n",
       "      <td>image361.jpg</td>\n",
       "      <td>Pexels Logo</td>\n",
       "    </tr>\n",
       "    <tr>\n",
       "      <th>361</th>\n",
       "      <td>image362.jpg</td>\n",
       "      <td>Powered by Onetrust</td>\n",
       "    </tr>\n",
       "  </tbody>\n",
       "</table>\n",
       "</div>"
      ],
      "text/plain": [
       "    Image Filename                                            Caption\n",
       "357   image358.jpg  Free Two Men in Karate Uniform Sparring Stock ...\n",
       "358   image359.jpg  Free Man With Braided Hair Wearing Gray Karate...\n",
       "359   image360.jpg            Free Handshake Before Fight Stock Photo\n",
       "360   image361.jpg                                        Pexels Logo\n",
       "361   image362.jpg                                Powered by Onetrust"
      ]
     },
     "execution_count": 107,
     "metadata": {},
     "output_type": "execute_result"
    }
   ],
   "source": [
    "df_karate.tail()"
   ]
  },
  {
   "cell_type": "code",
   "execution_count": 108,
   "id": "74598dcb",
   "metadata": {},
   "outputs": [
    {
     "name": "stdout",
     "output_type": "stream",
     "text": [
      "Number of images in folder: 362\n"
     ]
    }
   ],
   "source": [
    "f = 'D:\\\\Saved_Images_karate'\n",
    "print(f\"Number of images in folder: {count_images_in_folder(f)}\")"
   ]
  },
  {
   "cell_type": "code",
   "execution_count": 109,
   "id": "e4453a7c",
   "metadata": {},
   "outputs": [
    {
     "data": {
      "text/plain": [
       "(314, 2)"
      ]
     },
     "execution_count": 109,
     "metadata": {},
     "output_type": "execute_result"
    }
   ],
   "source": [
    "df_karate = df_karate[~df_karate.applymap(lambda x: x == 'no_alt_text').any(axis=1)]\n",
    "df_karate.shape"
   ]
  },
  {
   "cell_type": "code",
   "execution_count": 110,
   "id": "b62c7244",
   "metadata": {},
   "outputs": [],
   "source": [
    "df_karate = df_karate.drop(df_karate.tail(2).index)\n",
    "df_karate.reset_index(drop=True, inplace=True)"
   ]
  },
  {
   "cell_type": "code",
   "execution_count": 111,
   "id": "7c89eaaf",
   "metadata": {},
   "outputs": [],
   "source": [
    "df_karate['Caption'] = df_karate['Caption'].apply(drop_unnecessary_token)\n",
    "df_karate['Caption'] = df_karate['Caption'].apply(to_sentence_case)"
   ]
  },
  {
   "cell_type": "code",
   "execution_count": 113,
   "id": "85b87919",
   "metadata": {},
   "outputs": [
    {
     "data": {
      "text/html": [
       "<div>\n",
       "<style scoped>\n",
       "    .dataframe tbody tr th:only-of-type {\n",
       "        vertical-align: middle;\n",
       "    }\n",
       "\n",
       "    .dataframe tbody tr th {\n",
       "        vertical-align: top;\n",
       "    }\n",
       "\n",
       "    .dataframe thead th {\n",
       "        text-align: right;\n",
       "    }\n",
       "</style>\n",
       "<table border=\"1\" class=\"dataframe\">\n",
       "  <thead>\n",
       "    <tr style=\"text-align: right;\">\n",
       "      <th></th>\n",
       "      <th>Image Filename</th>\n",
       "      <th>Caption</th>\n",
       "    </tr>\n",
       "  </thead>\n",
       "  <tbody>\n",
       "    <tr>\n",
       "      <th>307</th>\n",
       "      <td>image352.jpg</td>\n",
       "      <td>Men practising martial arts at the gym</td>\n",
       "    </tr>\n",
       "    <tr>\n",
       "      <th>308</th>\n",
       "      <td>image357.jpg</td>\n",
       "      <td>Women in karate uniform on a black mat</td>\n",
       "    </tr>\n",
       "    <tr>\n",
       "      <th>309</th>\n",
       "      <td>image358.jpg</td>\n",
       "      <td>Two men in karate uniform sparring</td>\n",
       "    </tr>\n",
       "    <tr>\n",
       "      <th>310</th>\n",
       "      <td>image359.jpg</td>\n",
       "      <td>Man with braided hair wearing gray karate robe</td>\n",
       "    </tr>\n",
       "    <tr>\n",
       "      <th>311</th>\n",
       "      <td>image360.jpg</td>\n",
       "      <td>Handshake before fight</td>\n",
       "    </tr>\n",
       "  </tbody>\n",
       "</table>\n",
       "</div>"
      ],
      "text/plain": [
       "    Image Filename                                         Caption\n",
       "307   image352.jpg          Men practising martial arts at the gym\n",
       "308   image357.jpg          Women in karate uniform on a black mat\n",
       "309   image358.jpg              Two men in karate uniform sparring\n",
       "310   image359.jpg  Man with braided hair wearing gray karate robe\n",
       "311   image360.jpg                          Handshake before fight"
      ]
     },
     "execution_count": 113,
     "metadata": {},
     "output_type": "execute_result"
    }
   ],
   "source": [
    "df_karate.tail()"
   ]
  },
  {
   "cell_type": "code",
   "execution_count": 114,
   "id": "4770553f",
   "metadata": {},
   "outputs": [],
   "source": [
    "df_karate.to_csv('dataset_image_karate.csv', index=False)"
   ]
  },
  {
   "cell_type": "code",
   "execution_count": 115,
   "id": "d068ebda",
   "metadata": {},
   "outputs": [],
   "source": [
    "folder_path = 'D:\\\\Saved_Images_karate'\n",
    "csv_file_path = 'C:\\\\Users\\\\ADMIN\\\\dataset_image_karate.csv'\n",
    "clean_folder_from_csv(folder_path, csv_file_path)"
   ]
  },
  {
   "cell_type": "code",
   "execution_count": 116,
   "id": "5ecf94dd",
   "metadata": {},
   "outputs": [
    {
     "name": "stdout",
     "output_type": "stream",
     "text": [
      "Number of images in folder: 312\n"
     ]
    }
   ],
   "source": [
    "f = 'D:\\\\Saved_Images_karate'\n",
    "print(f\"Number of images in folder: {count_images_in_folder(f)}\")"
   ]
  },
  {
   "cell_type": "markdown",
   "id": "2ae5d55d",
   "metadata": {},
   "source": [
    "## Jumping_Data"
   ]
  },
  {
   "cell_type": "code",
   "execution_count": 21,
   "id": "a29497b0",
   "metadata": {},
   "outputs": [
    {
     "data": {
      "text/plain": [
       "(936, 2)"
      ]
     },
     "execution_count": 21,
     "metadata": {},
     "output_type": "execute_result"
    }
   ],
   "source": [
    "df_jumping.shape"
   ]
  },
  {
   "cell_type": "code",
   "execution_count": 22,
   "id": "4fbed0b6",
   "metadata": {},
   "outputs": [
    {
     "data": {
      "text/html": [
       "<div>\n",
       "<style scoped>\n",
       "    .dataframe tbody tr th:only-of-type {\n",
       "        vertical-align: middle;\n",
       "    }\n",
       "\n",
       "    .dataframe tbody tr th {\n",
       "        vertical-align: top;\n",
       "    }\n",
       "\n",
       "    .dataframe thead th {\n",
       "        text-align: right;\n",
       "    }\n",
       "</style>\n",
       "<table border=\"1\" class=\"dataframe\">\n",
       "  <thead>\n",
       "    <tr style=\"text-align: right;\">\n",
       "      <th></th>\n",
       "      <th>Image Filename</th>\n",
       "      <th>Caption</th>\n",
       "    </tr>\n",
       "  </thead>\n",
       "  <tbody>\n",
       "    <tr>\n",
       "      <th>931</th>\n",
       "      <td>image932.jpg</td>\n",
       "      <td>Free A Group of Young People in Punk Clothing ...</td>\n",
       "    </tr>\n",
       "    <tr>\n",
       "      <th>932</th>\n",
       "      <td>image933.jpg</td>\n",
       "      <td>Free Man Wearing Red Shirt Playing Basketball ...</td>\n",
       "    </tr>\n",
       "    <tr>\n",
       "      <th>933</th>\n",
       "      <td>image934.jpg</td>\n",
       "      <td>Free Man Jumping on Lakeshore Stock Photo</td>\n",
       "    </tr>\n",
       "    <tr>\n",
       "      <th>934</th>\n",
       "      <td>image935.jpg</td>\n",
       "      <td>Pexels Logo</td>\n",
       "    </tr>\n",
       "    <tr>\n",
       "      <th>935</th>\n",
       "      <td>image936.jpg</td>\n",
       "      <td>Powered by Onetrust</td>\n",
       "    </tr>\n",
       "  </tbody>\n",
       "</table>\n",
       "</div>"
      ],
      "text/plain": [
       "    Image Filename                                            Caption\n",
       "931   image932.jpg  Free A Group of Young People in Punk Clothing ...\n",
       "932   image933.jpg  Free Man Wearing Red Shirt Playing Basketball ...\n",
       "933   image934.jpg          Free Man Jumping on Lakeshore Stock Photo\n",
       "934   image935.jpg                                        Pexels Logo\n",
       "935   image936.jpg                                Powered by Onetrust"
      ]
     },
     "execution_count": 22,
     "metadata": {},
     "output_type": "execute_result"
    }
   ],
   "source": [
    "df_jumping.tail()"
   ]
  },
  {
   "cell_type": "code",
   "execution_count": 23,
   "id": "bfb6da1f",
   "metadata": {},
   "outputs": [
    {
     "name": "stdout",
     "output_type": "stream",
     "text": [
      "Number of images in folder: 936\n"
     ]
    }
   ],
   "source": [
    "f = 'D:\\\\Saved_Images_jumping'\n",
    "print(f\"Number of images in folder: {count_images_in_folder(f)}\")"
   ]
  },
  {
   "cell_type": "code",
   "execution_count": 24,
   "id": "2d56c877",
   "metadata": {},
   "outputs": [
    {
     "data": {
      "text/plain": [
       "(816, 2)"
      ]
     },
     "execution_count": 24,
     "metadata": {},
     "output_type": "execute_result"
    }
   ],
   "source": [
    "df_jumping = df_jumping[~df_jumping.applymap(lambda x: x == 'no_alt_text').any(axis=1)]\n",
    "df_jumping.shape"
   ]
  },
  {
   "cell_type": "code",
   "execution_count": 26,
   "id": "28d1771a",
   "metadata": {},
   "outputs": [],
   "source": [
    "df_jumping = df_jumping.drop(df_jumping.tail(2).index)\n",
    "df_jumping.reset_index(drop=True, inplace=True)"
   ]
  },
  {
   "cell_type": "code",
   "execution_count": 27,
   "id": "2630d527",
   "metadata": {},
   "outputs": [],
   "source": [
    "df_jumping['Caption'] = df_jumping['Caption'].apply(drop_unnecessary_token)\n",
    "df_jumping['Caption'] = df_jumping['Caption'].apply(to_sentence_case)"
   ]
  },
  {
   "cell_type": "code",
   "execution_count": 28,
   "id": "5fcfb9a8",
   "metadata": {},
   "outputs": [],
   "source": [
    "df_jumping.to_csv('dataset_image_jumping.csv', index=False)"
   ]
  },
  {
   "cell_type": "code",
   "execution_count": 29,
   "id": "aff5c419",
   "metadata": {},
   "outputs": [],
   "source": [
    "folder_path = 'D:\\\\Saved_Images_jumping'\n",
    "csv_file_path = 'C:\\\\Users\\\\ADMIN\\\\dataset_image_jumping.csv'\n",
    "clean_folder_from_csv(folder_path, csv_file_path)"
   ]
  },
  {
   "cell_type": "code",
   "execution_count": 30,
   "id": "9684b2d6",
   "metadata": {},
   "outputs": [
    {
     "name": "stdout",
     "output_type": "stream",
     "text": [
      "Number of images in folder: 814\n"
     ]
    }
   ],
   "source": [
    "f = 'D:\\\\Saved_Images_jumping'\n",
    "print(f\"Number of images in folder: {count_images_in_folder(f)}\")"
   ]
  },
  {
   "cell_type": "markdown",
   "id": "43934012",
   "metadata": {},
   "source": [
    "## Hunting_Data"
   ]
  },
  {
   "cell_type": "code",
   "execution_count": 31,
   "id": "3a4da2d5",
   "metadata": {},
   "outputs": [
    {
     "data": {
      "text/plain": [
       "(768, 2)"
      ]
     },
     "execution_count": 31,
     "metadata": {},
     "output_type": "execute_result"
    }
   ],
   "source": [
    "df_hunting.shape"
   ]
  },
  {
   "cell_type": "code",
   "execution_count": 32,
   "id": "9b070102",
   "metadata": {},
   "outputs": [
    {
     "data": {
      "text/html": [
       "<div>\n",
       "<style scoped>\n",
       "    .dataframe tbody tr th:only-of-type {\n",
       "        vertical-align: middle;\n",
       "    }\n",
       "\n",
       "    .dataframe tbody tr th {\n",
       "        vertical-align: top;\n",
       "    }\n",
       "\n",
       "    .dataframe thead th {\n",
       "        text-align: right;\n",
       "    }\n",
       "</style>\n",
       "<table border=\"1\" class=\"dataframe\">\n",
       "  <thead>\n",
       "    <tr style=\"text-align: right;\">\n",
       "      <th></th>\n",
       "      <th>Image Filename</th>\n",
       "      <th>Caption</th>\n",
       "    </tr>\n",
       "  </thead>\n",
       "  <tbody>\n",
       "    <tr>\n",
       "      <th>763</th>\n",
       "      <td>image764.jpg</td>\n",
       "      <td>Free A spider with long legs on a leaf Stock P...</td>\n",
       "    </tr>\n",
       "    <tr>\n",
       "      <th>764</th>\n",
       "      <td>image765.jpg</td>\n",
       "      <td>Free Portrait of Cheetah Walking Away Stock Photo</td>\n",
       "    </tr>\n",
       "    <tr>\n",
       "      <th>765</th>\n",
       "      <td>image766.jpg</td>\n",
       "      <td>Free Goose Splashing in the Water Stock Photo</td>\n",
       "    </tr>\n",
       "    <tr>\n",
       "      <th>766</th>\n",
       "      <td>image767.jpg</td>\n",
       "      <td>Free A spider is sitting on the web in front o...</td>\n",
       "    </tr>\n",
       "    <tr>\n",
       "      <th>767</th>\n",
       "      <td>image768.jpg</td>\n",
       "      <td>Free Graureiher Präsentiert seine Beute Stock ...</td>\n",
       "    </tr>\n",
       "  </tbody>\n",
       "</table>\n",
       "</div>"
      ],
      "text/plain": [
       "    Image Filename                                            Caption\n",
       "763   image764.jpg  Free A spider with long legs on a leaf Stock P...\n",
       "764   image765.jpg  Free Portrait of Cheetah Walking Away Stock Photo\n",
       "765   image766.jpg      Free Goose Splashing in the Water Stock Photo\n",
       "766   image767.jpg  Free A spider is sitting on the web in front o...\n",
       "767   image768.jpg  Free Graureiher Präsentiert seine Beute Stock ..."
      ]
     },
     "execution_count": 32,
     "metadata": {},
     "output_type": "execute_result"
    }
   ],
   "source": [
    "df_hunting.tail()"
   ]
  },
  {
   "cell_type": "code",
   "execution_count": 33,
   "id": "c929cd9c",
   "metadata": {},
   "outputs": [
    {
     "name": "stdout",
     "output_type": "stream",
     "text": [
      "Number of images in folder: 767\n"
     ]
    }
   ],
   "source": [
    "f = 'D:\\\\Saved_Images_hunting'\n",
    "print(f\"Number of images in folder: {count_images_in_folder(f)}\")"
   ]
  },
  {
   "cell_type": "code",
   "execution_count": 34,
   "id": "17a1e150",
   "metadata": {},
   "outputs": [
    {
     "data": {
      "text/plain": [
       "(666, 2)"
      ]
     },
     "execution_count": 34,
     "metadata": {},
     "output_type": "execute_result"
    }
   ],
   "source": [
    "df_hunting = df_hunting[~df_hunting.applymap(lambda x: x == 'no_alt_text').any(axis=1)]\n",
    "df_hunting.shape"
   ]
  },
  {
   "cell_type": "code",
   "execution_count": 35,
   "id": "ce670770",
   "metadata": {},
   "outputs": [],
   "source": [
    "df_hunting.reset_index(drop=True, inplace=True)\n",
    "df_hunting['Caption'] = df_hunting['Caption'].apply(drop_unnecessary_token)\n",
    "df_hunting['Caption'] = df_hunting['Caption'].apply(to_sentence_case)"
   ]
  },
  {
   "cell_type": "code",
   "execution_count": 36,
   "id": "f43359b6",
   "metadata": {},
   "outputs": [],
   "source": [
    "df_hunting.to_csv('dataset_image_hunting.csv', index=False)"
   ]
  },
  {
   "cell_type": "code",
   "execution_count": 37,
   "id": "13199900",
   "metadata": {},
   "outputs": [],
   "source": [
    "folder_path = 'D:\\\\Saved_Images_hunting'\n",
    "csv_file_path = 'C:\\\\Users\\\\ADMIN\\\\dataset_image_hunting.csv'\n",
    "clean_folder_from_csv(folder_path, csv_file_path)"
   ]
  },
  {
   "cell_type": "code",
   "execution_count": 38,
   "id": "a947d245",
   "metadata": {},
   "outputs": [
    {
     "name": "stdout",
     "output_type": "stream",
     "text": [
      "Number of images in folder: 665\n"
     ]
    }
   ],
   "source": [
    "f = 'D:\\\\Saved_Images_hunting'\n",
    "print(f\"Number of images in folder: {count_images_in_folder(f)}\")"
   ]
  },
  {
   "cell_type": "markdown",
   "id": "c4788596",
   "metadata": {},
   "source": [
    "## Gymnastic_Data"
   ]
  },
  {
   "cell_type": "code",
   "execution_count": 39,
   "id": "5359eaae",
   "metadata": {},
   "outputs": [
    {
     "data": {
      "text/plain": [
       "(965, 2)"
      ]
     },
     "execution_count": 39,
     "metadata": {},
     "output_type": "execute_result"
    }
   ],
   "source": [
    "df_gym.shape"
   ]
  },
  {
   "cell_type": "code",
   "execution_count": 40,
   "id": "4ac074e4",
   "metadata": {},
   "outputs": [
    {
     "data": {
      "text/html": [
       "<div>\n",
       "<style scoped>\n",
       "    .dataframe tbody tr th:only-of-type {\n",
       "        vertical-align: middle;\n",
       "    }\n",
       "\n",
       "    .dataframe tbody tr th {\n",
       "        vertical-align: top;\n",
       "    }\n",
       "\n",
       "    .dataframe thead th {\n",
       "        text-align: right;\n",
       "    }\n",
       "</style>\n",
       "<table border=\"1\" class=\"dataframe\">\n",
       "  <thead>\n",
       "    <tr style=\"text-align: right;\">\n",
       "      <th></th>\n",
       "      <th>Image Filename</th>\n",
       "      <th>Caption</th>\n",
       "    </tr>\n",
       "  </thead>\n",
       "  <tbody>\n",
       "    <tr>\n",
       "      <th>960</th>\n",
       "      <td>image961.jpg</td>\n",
       "      <td>Free Young slim Asian female wearing top and l...</td>\n",
       "    </tr>\n",
       "    <tr>\n",
       "      <th>961</th>\n",
       "      <td>image962.jpg</td>\n",
       "      <td>Free Woman Wearing Black leotard Doing Yoga Po...</td>\n",
       "    </tr>\n",
       "    <tr>\n",
       "      <th>962</th>\n",
       "      <td>image963.jpg</td>\n",
       "      <td>Free Female friends warming up on bench in yar...</td>\n",
       "    </tr>\n",
       "    <tr>\n",
       "      <th>963</th>\n",
       "      <td>image964.jpg</td>\n",
       "      <td>Pexels Logo</td>\n",
       "    </tr>\n",
       "    <tr>\n",
       "      <th>964</th>\n",
       "      <td>image965.jpg</td>\n",
       "      <td>Powered by Onetrust</td>\n",
       "    </tr>\n",
       "  </tbody>\n",
       "</table>\n",
       "</div>"
      ],
      "text/plain": [
       "    Image Filename                                            Caption\n",
       "960   image961.jpg  Free Young slim Asian female wearing top and l...\n",
       "961   image962.jpg  Free Woman Wearing Black leotard Doing Yoga Po...\n",
       "962   image963.jpg  Free Female friends warming up on bench in yar...\n",
       "963   image964.jpg                                        Pexels Logo\n",
       "964   image965.jpg                                Powered by Onetrust"
      ]
     },
     "execution_count": 40,
     "metadata": {},
     "output_type": "execute_result"
    }
   ],
   "source": [
    "df_gym.tail()"
   ]
  },
  {
   "cell_type": "code",
   "execution_count": 41,
   "id": "730faab7",
   "metadata": {},
   "outputs": [
    {
     "name": "stdout",
     "output_type": "stream",
     "text": [
      "Number of images in folder: 965\n"
     ]
    }
   ],
   "source": [
    "f = 'D:\\\\Saved_Images_gymnastic'\n",
    "print(f\"Number of images in folder: {count_images_in_folder(f)}\")"
   ]
  },
  {
   "cell_type": "code",
   "execution_count": 42,
   "id": "86d44bc4",
   "metadata": {},
   "outputs": [
    {
     "data": {
      "text/plain": [
       "(840, 2)"
      ]
     },
     "execution_count": 42,
     "metadata": {},
     "output_type": "execute_result"
    }
   ],
   "source": [
    "df_gym = df_gym[~df_gym.applymap(lambda x: x == 'no_alt_text').any(axis=1)]\n",
    "df_gym.shape"
   ]
  },
  {
   "cell_type": "code",
   "execution_count": 43,
   "id": "e3b265b0",
   "metadata": {},
   "outputs": [],
   "source": [
    "df_gym = df_gym.drop(df_gym.tail(2).index)\n",
    "df_gym.reset_index(drop=True, inplace=True)\n",
    "df_gym['Caption'] = df_gym['Caption'].apply(drop_unnecessary_token)\n",
    "df_gym['Caption'] = df_gym['Caption'].apply(to_sentence_case)"
   ]
  },
  {
   "cell_type": "code",
   "execution_count": 44,
   "id": "6d642c89",
   "metadata": {},
   "outputs": [],
   "source": [
    "df_gym.to_csv('dataset_image_gymnastic.csv', index=False)"
   ]
  },
  {
   "cell_type": "code",
   "execution_count": 45,
   "id": "ecb61600",
   "metadata": {},
   "outputs": [],
   "source": [
    "folder_path = 'D:\\\\Saved_Images_gymnastic'\n",
    "csv_file_path = 'C:\\\\Users\\\\ADMIN\\\\dataset_image_gymnastic.csv'\n",
    "clean_folder_from_csv(folder_path, csv_file_path)"
   ]
  },
  {
   "cell_type": "code",
   "execution_count": 46,
   "id": "237e1771",
   "metadata": {},
   "outputs": [
    {
     "name": "stdout",
     "output_type": "stream",
     "text": [
      "Number of images in folder: 838\n"
     ]
    }
   ],
   "source": [
    "f = 'D:\\\\Saved_Images_gymnastic'\n",
    "print(f\"Number of images in folder: {count_images_in_folder(f)}\")"
   ]
  },
  {
   "cell_type": "markdown",
   "id": "47bb03f3",
   "metadata": {},
   "source": [
    "## Diving_data"
   ]
  },
  {
   "cell_type": "code",
   "execution_count": 47,
   "id": "6c093a8a",
   "metadata": {},
   "outputs": [
    {
     "data": {
      "text/plain": [
       "(749, 2)"
      ]
     },
     "execution_count": 47,
     "metadata": {},
     "output_type": "execute_result"
    }
   ],
   "source": [
    "df_diving.shape"
   ]
  },
  {
   "cell_type": "code",
   "execution_count": 48,
   "id": "9c567548",
   "metadata": {},
   "outputs": [
    {
     "data": {
      "text/html": [
       "<div>\n",
       "<style scoped>\n",
       "    .dataframe tbody tr th:only-of-type {\n",
       "        vertical-align: middle;\n",
       "    }\n",
       "\n",
       "    .dataframe tbody tr th {\n",
       "        vertical-align: top;\n",
       "    }\n",
       "\n",
       "    .dataframe thead th {\n",
       "        text-align: right;\n",
       "    }\n",
       "</style>\n",
       "<table border=\"1\" class=\"dataframe\">\n",
       "  <thead>\n",
       "    <tr style=\"text-align: right;\">\n",
       "      <th></th>\n",
       "      <th>Image Filename</th>\n",
       "      <th>Caption</th>\n",
       "    </tr>\n",
       "  </thead>\n",
       "  <tbody>\n",
       "    <tr>\n",
       "      <th>744</th>\n",
       "      <td>image745.jpg</td>\n",
       "      <td>Free From below of anonymous divers in wetsuit...</td>\n",
       "    </tr>\n",
       "    <tr>\n",
       "      <th>745</th>\n",
       "      <td>image746.jpg</td>\n",
       "      <td>Free Back view of unrecognizable female travel...</td>\n",
       "    </tr>\n",
       "    <tr>\n",
       "      <th>746</th>\n",
       "      <td>image747.jpg</td>\n",
       "      <td>Free Unrecognizable person diving in blue seaw...</td>\n",
       "    </tr>\n",
       "    <tr>\n",
       "      <th>747</th>\n",
       "      <td>image748.jpg</td>\n",
       "      <td>Free Full body anonymous diver wearing wetsuit...</td>\n",
       "    </tr>\n",
       "    <tr>\n",
       "      <th>748</th>\n",
       "      <td>image749.jpg</td>\n",
       "      <td>Free Man in Black and Blue Wetsuit and Black G...</td>\n",
       "    </tr>\n",
       "  </tbody>\n",
       "</table>\n",
       "</div>"
      ],
      "text/plain": [
       "    Image Filename                                            Caption\n",
       "744   image745.jpg  Free From below of anonymous divers in wetsuit...\n",
       "745   image746.jpg  Free Back view of unrecognizable female travel...\n",
       "746   image747.jpg  Free Unrecognizable person diving in blue seaw...\n",
       "747   image748.jpg  Free Full body anonymous diver wearing wetsuit...\n",
       "748   image749.jpg  Free Man in Black and Blue Wetsuit and Black G..."
      ]
     },
     "execution_count": 48,
     "metadata": {},
     "output_type": "execute_result"
    }
   ],
   "source": [
    "df_diving.tail()"
   ]
  },
  {
   "cell_type": "code",
   "execution_count": 49,
   "id": "7403a04a",
   "metadata": {},
   "outputs": [
    {
     "name": "stdout",
     "output_type": "stream",
     "text": [
      "Number of images in folder: 749\n"
     ]
    }
   ],
   "source": [
    "f = 'D:\\\\Saved_Images_diving'\n",
    "print(f\"Number of images in folder: {count_images_in_folder(f)}\")"
   ]
  },
  {
   "cell_type": "code",
   "execution_count": 50,
   "id": "f5455dad",
   "metadata": {},
   "outputs": [
    {
     "data": {
      "text/plain": [
       "(656, 2)"
      ]
     },
     "execution_count": 50,
     "metadata": {},
     "output_type": "execute_result"
    }
   ],
   "source": [
    "df_diving = df_diving[~df_diving.applymap(lambda x: x == 'no_alt_text').any(axis=1)]\n",
    "df_diving.shape"
   ]
  },
  {
   "cell_type": "code",
   "execution_count": 51,
   "id": "454f3428",
   "metadata": {},
   "outputs": [],
   "source": [
    "df_diving.reset_index(drop=True, inplace=True)\n",
    "df_diving['Caption'] = df_diving['Caption'].apply(drop_unnecessary_token)\n",
    "df_diving['Caption'] = df_diving['Caption'].apply(to_sentence_case)"
   ]
  },
  {
   "cell_type": "code",
   "execution_count": 52,
   "id": "81a20bf5",
   "metadata": {},
   "outputs": [],
   "source": [
    "df_diving.to_csv('dataset_image_diving.csv', index=False)"
   ]
  },
  {
   "cell_type": "code",
   "execution_count": 53,
   "id": "d8878c30",
   "metadata": {},
   "outputs": [],
   "source": [
    "folder_path = 'D:\\\\Saved_Images_diving'\n",
    "csv_file_path = 'C:\\\\Users\\\\ADMIN\\\\dataset_image_diving.csv'\n",
    "clean_folder_from_csv(folder_path, csv_file_path)"
   ]
  },
  {
   "cell_type": "code",
   "execution_count": 54,
   "id": "589c209f",
   "metadata": {},
   "outputs": [
    {
     "name": "stdout",
     "output_type": "stream",
     "text": [
      "Number of images in folder: 656\n"
     ]
    }
   ],
   "source": [
    "f = 'D:\\\\Saved_Images_diving'\n",
    "print(f\"Number of images in folder: {count_images_in_folder(f)}\")"
   ]
  },
  {
   "cell_type": "markdown",
   "id": "72c3b982",
   "metadata": {},
   "source": [
    "## Climb_Data"
   ]
  },
  {
   "cell_type": "code",
   "execution_count": 55,
   "id": "cd4d5cbf",
   "metadata": {},
   "outputs": [
    {
     "data": {
      "text/plain": [
       "(502, 2)"
      ]
     },
     "execution_count": 55,
     "metadata": {},
     "output_type": "execute_result"
    }
   ],
   "source": [
    "df_climb.shape"
   ]
  },
  {
   "cell_type": "code",
   "execution_count": 56,
   "id": "7a7a08d6",
   "metadata": {},
   "outputs": [
    {
     "data": {
      "text/html": [
       "<div>\n",
       "<style scoped>\n",
       "    .dataframe tbody tr th:only-of-type {\n",
       "        vertical-align: middle;\n",
       "    }\n",
       "\n",
       "    .dataframe tbody tr th {\n",
       "        vertical-align: top;\n",
       "    }\n",
       "\n",
       "    .dataframe thead th {\n",
       "        text-align: right;\n",
       "    }\n",
       "</style>\n",
       "<table border=\"1\" class=\"dataframe\">\n",
       "  <thead>\n",
       "    <tr style=\"text-align: right;\">\n",
       "      <th></th>\n",
       "      <th>Image Filename</th>\n",
       "      <th>Caption</th>\n",
       "    </tr>\n",
       "  </thead>\n",
       "  <tbody>\n",
       "    <tr>\n",
       "      <th>497</th>\n",
       "      <td>image498.jpg</td>\n",
       "      <td>Free Man in Green Jacket and Black Pants With ...</td>\n",
       "    </tr>\n",
       "    <tr>\n",
       "      <th>498</th>\n",
       "      <td>image499.jpg</td>\n",
       "      <td>Free Mountain Valley Covered with Snow  Stock ...</td>\n",
       "    </tr>\n",
       "    <tr>\n",
       "      <th>499</th>\n",
       "      <td>image500.jpg</td>\n",
       "      <td>Free Person in Brown Coat Standing Near Snow C...</td>\n",
       "    </tr>\n",
       "    <tr>\n",
       "      <th>500</th>\n",
       "      <td>image501.jpg</td>\n",
       "      <td>Pexels Logo</td>\n",
       "    </tr>\n",
       "    <tr>\n",
       "      <th>501</th>\n",
       "      <td>image502.jpg</td>\n",
       "      <td>Powered by Onetrust</td>\n",
       "    </tr>\n",
       "  </tbody>\n",
       "</table>\n",
       "</div>"
      ],
      "text/plain": [
       "    Image Filename                                            Caption\n",
       "497   image498.jpg  Free Man in Green Jacket and Black Pants With ...\n",
       "498   image499.jpg  Free Mountain Valley Covered with Snow  Stock ...\n",
       "499   image500.jpg  Free Person in Brown Coat Standing Near Snow C...\n",
       "500   image501.jpg                                        Pexels Logo\n",
       "501   image502.jpg                                Powered by Onetrust"
      ]
     },
     "execution_count": 56,
     "metadata": {},
     "output_type": "execute_result"
    }
   ],
   "source": [
    "df_climb.tail()"
   ]
  },
  {
   "cell_type": "code",
   "execution_count": 57,
   "id": "b3907d9a",
   "metadata": {},
   "outputs": [
    {
     "name": "stdout",
     "output_type": "stream",
     "text": [
      "Number of images in folder: 502\n"
     ]
    }
   ],
   "source": [
    "f = 'D:\\\\Saved_Images_climb'\n",
    "print(f\"Number of images in folder: {count_images_in_folder(f)}\")"
   ]
  },
  {
   "cell_type": "code",
   "execution_count": 58,
   "id": "708cd9f6",
   "metadata": {},
   "outputs": [
    {
     "data": {
      "text/plain": [
       "(434, 2)"
      ]
     },
     "execution_count": 58,
     "metadata": {},
     "output_type": "execute_result"
    }
   ],
   "source": [
    "df_climb = df_climb[~df_climb.applymap(lambda x: x == 'no_alt_text').any(axis=1)]\n",
    "df_climb.shape"
   ]
  },
  {
   "cell_type": "code",
   "execution_count": 59,
   "id": "29dc0da7",
   "metadata": {},
   "outputs": [],
   "source": [
    "df_climb = df_climb.drop(df_climb.tail(2).index)\n",
    "df_climb.reset_index(drop=True, inplace=True)\n",
    "df_climb['Caption'] = df_climb['Caption'].apply(drop_unnecessary_token)\n",
    "df_climb['Caption'] = df_climb['Caption'].apply(to_sentence_case)"
   ]
  },
  {
   "cell_type": "code",
   "execution_count": 60,
   "id": "c0025ab8",
   "metadata": {},
   "outputs": [],
   "source": [
    "df_climb.to_csv('dataset_image_climb.csv', index=False)"
   ]
  },
  {
   "cell_type": "code",
   "execution_count": 61,
   "id": "ea80212d",
   "metadata": {},
   "outputs": [],
   "source": [
    "folder_path = 'D:\\\\Saved_Images_climb'\n",
    "csv_file_path = 'C:\\\\Users\\\\ADMIN\\\\dataset_image_climb.csv'\n",
    "clean_folder_from_csv(folder_path, csv_file_path)"
   ]
  },
  {
   "cell_type": "code",
   "execution_count": 62,
   "id": "70b55b24",
   "metadata": {},
   "outputs": [
    {
     "name": "stdout",
     "output_type": "stream",
     "text": [
      "Number of images in folder: 432\n"
     ]
    }
   ],
   "source": [
    "f = 'D:\\\\Saved_Images_climb'\n",
    "print(f\"Number of images in folder: {count_images_in_folder(f)}\")"
   ]
  },
  {
   "cell_type": "markdown",
   "id": "bd483c22",
   "metadata": {},
   "source": [
    "## Boxing_Data"
   ]
  },
  {
   "cell_type": "code",
   "execution_count": 65,
   "id": "aec30359",
   "metadata": {},
   "outputs": [
    {
     "data": {
      "text/plain": [
       "(2448, 2)"
      ]
     },
     "execution_count": 65,
     "metadata": {},
     "output_type": "execute_result"
    }
   ],
   "source": [
    "df_boxing.shape"
   ]
  },
  {
   "cell_type": "code",
   "execution_count": 66,
   "id": "34494652",
   "metadata": {},
   "outputs": [
    {
     "data": {
      "text/html": [
       "<div>\n",
       "<style scoped>\n",
       "    .dataframe tbody tr th:only-of-type {\n",
       "        vertical-align: middle;\n",
       "    }\n",
       "\n",
       "    .dataframe tbody tr th {\n",
       "        vertical-align: top;\n",
       "    }\n",
       "\n",
       "    .dataframe thead th {\n",
       "        text-align: right;\n",
       "    }\n",
       "</style>\n",
       "<table border=\"1\" class=\"dataframe\">\n",
       "  <thead>\n",
       "    <tr style=\"text-align: right;\">\n",
       "      <th></th>\n",
       "      <th>Image Filename</th>\n",
       "      <th>Caption</th>\n",
       "    </tr>\n",
       "  </thead>\n",
       "  <tbody>\n",
       "    <tr>\n",
       "      <th>2443</th>\n",
       "      <td>image2444.jpg</td>\n",
       "      <td>Free A Boy Wearing Black Boxing Gloves Stock P...</td>\n",
       "    </tr>\n",
       "    <tr>\n",
       "      <th>2444</th>\n",
       "      <td>image2445.jpg</td>\n",
       "      <td>Free A Boy Wearing Black Boxing Gloves Stock P...</td>\n",
       "    </tr>\n",
       "    <tr>\n",
       "      <th>2445</th>\n",
       "      <td>image2446.jpg</td>\n",
       "      <td>Free A Boy Wearing Black Boxing Gloves Stock P...</td>\n",
       "    </tr>\n",
       "    <tr>\n",
       "      <th>2446</th>\n",
       "      <td>image2447.jpg</td>\n",
       "      <td>Free A Man Posing at the Camera Stock Photo</td>\n",
       "    </tr>\n",
       "    <tr>\n",
       "      <th>2447</th>\n",
       "      <td>image2448.jpg</td>\n",
       "      <td>Free A Boy in Black Hoodie Stock Photo</td>\n",
       "    </tr>\n",
       "  </tbody>\n",
       "</table>\n",
       "</div>"
      ],
      "text/plain": [
       "     Image Filename                                            Caption\n",
       "2443  image2444.jpg  Free A Boy Wearing Black Boxing Gloves Stock P...\n",
       "2444  image2445.jpg  Free A Boy Wearing Black Boxing Gloves Stock P...\n",
       "2445  image2446.jpg  Free A Boy Wearing Black Boxing Gloves Stock P...\n",
       "2446  image2447.jpg        Free A Man Posing at the Camera Stock Photo\n",
       "2447  image2448.jpg             Free A Boy in Black Hoodie Stock Photo"
      ]
     },
     "execution_count": 66,
     "metadata": {},
     "output_type": "execute_result"
    }
   ],
   "source": [
    "df_boxing.tail()"
   ]
  },
  {
   "cell_type": "code",
   "execution_count": 67,
   "id": "c3f1c8f2",
   "metadata": {},
   "outputs": [
    {
     "name": "stdout",
     "output_type": "stream",
     "text": [
      "Number of images in folder: 2448\n"
     ]
    }
   ],
   "source": [
    "f = 'D:\\\\Saved_Images_boxing'\n",
    "print(f\"Number of images in folder: {count_images_in_folder(f)}\")"
   ]
  },
  {
   "cell_type": "code",
   "execution_count": 68,
   "id": "c5f9c9c8",
   "metadata": {},
   "outputs": [
    {
     "data": {
      "text/plain": [
       "(2153, 2)"
      ]
     },
     "execution_count": 68,
     "metadata": {},
     "output_type": "execute_result"
    }
   ],
   "source": [
    "df_boxing = df_boxing[~df_boxing.applymap(lambda x: x == 'no_alt_text').any(axis=1)]\n",
    "df_boxing.shape"
   ]
  },
  {
   "cell_type": "code",
   "execution_count": 69,
   "id": "2691ca1b",
   "metadata": {},
   "outputs": [],
   "source": [
    "df_boxing.reset_index(drop=True, inplace=True)\n",
    "df_boxing['Caption'] = df_boxing['Caption'].apply(drop_unnecessary_token)\n",
    "df_boxing['Caption'] = df_boxing['Caption'].apply(to_sentence_case)"
   ]
  },
  {
   "cell_type": "code",
   "execution_count": 70,
   "id": "96dc0ff2",
   "metadata": {},
   "outputs": [],
   "source": [
    "df_boxing.to_csv('dataset_image_boxing.csv', index=False)"
   ]
  },
  {
   "cell_type": "code",
   "execution_count": 71,
   "id": "7658716a",
   "metadata": {},
   "outputs": [],
   "source": [
    "folder_path = 'D:\\\\Saved_Images_boxing'\n",
    "csv_file_path = 'C:\\\\Users\\\\ADMIN\\\\dataset_image_boxing.csv'\n",
    "clean_folder_from_csv(folder_path, csv_file_path)"
   ]
  },
  {
   "cell_type": "code",
   "execution_count": 72,
   "id": "536a77b3",
   "metadata": {},
   "outputs": [
    {
     "name": "stdout",
     "output_type": "stream",
     "text": [
      "Number of images in folder: 2153\n"
     ]
    }
   ],
   "source": [
    "f = 'D:\\\\Saved_Images_boxing'\n",
    "print(f\"Number of images in folder: {count_images_in_folder(f)}\")"
   ]
  },
  {
   "cell_type": "markdown",
   "id": "bcde1d07",
   "metadata": {},
   "source": [
    "## Bi_a_Data"
   ]
  },
  {
   "cell_type": "code",
   "execution_count": 73,
   "id": "5267581a",
   "metadata": {},
   "outputs": [
    {
     "data": {
      "text/plain": [
       "(184, 2)"
      ]
     },
     "execution_count": 73,
     "metadata": {},
     "output_type": "execute_result"
    }
   ],
   "source": [
    "df_bi_a.shape"
   ]
  },
  {
   "cell_type": "code",
   "execution_count": 74,
   "id": "5b4b33a3",
   "metadata": {},
   "outputs": [
    {
     "data": {
      "text/html": [
       "<div>\n",
       "<style scoped>\n",
       "    .dataframe tbody tr th:only-of-type {\n",
       "        vertical-align: middle;\n",
       "    }\n",
       "\n",
       "    .dataframe tbody tr th {\n",
       "        vertical-align: top;\n",
       "    }\n",
       "\n",
       "    .dataframe thead th {\n",
       "        text-align: right;\n",
       "    }\n",
       "</style>\n",
       "<table border=\"1\" class=\"dataframe\">\n",
       "  <thead>\n",
       "    <tr style=\"text-align: right;\">\n",
       "      <th></th>\n",
       "      <th>Image Filename</th>\n",
       "      <th>Caption</th>\n",
       "    </tr>\n",
       "  </thead>\n",
       "  <tbody>\n",
       "    <tr>\n",
       "      <th>179</th>\n",
       "      <td>image180.jpg</td>\n",
       "      <td>no_alt_text</td>\n",
       "    </tr>\n",
       "    <tr>\n",
       "      <th>180</th>\n",
       "      <td>image181.jpg</td>\n",
       "      <td>no_alt_text</td>\n",
       "    </tr>\n",
       "    <tr>\n",
       "      <th>181</th>\n",
       "      <td>image182.jpg</td>\n",
       "      <td>no_alt_text</td>\n",
       "    </tr>\n",
       "    <tr>\n",
       "      <th>182</th>\n",
       "      <td>image183.jpg</td>\n",
       "      <td>Pexels Logo</td>\n",
       "    </tr>\n",
       "    <tr>\n",
       "      <th>183</th>\n",
       "      <td>image184.jpg</td>\n",
       "      <td>Powered by Onetrust</td>\n",
       "    </tr>\n",
       "  </tbody>\n",
       "</table>\n",
       "</div>"
      ],
      "text/plain": [
       "    Image Filename              Caption\n",
       "179   image180.jpg          no_alt_text\n",
       "180   image181.jpg          no_alt_text\n",
       "181   image182.jpg          no_alt_text\n",
       "182   image183.jpg          Pexels Logo\n",
       "183   image184.jpg  Powered by Onetrust"
      ]
     },
     "execution_count": 74,
     "metadata": {},
     "output_type": "execute_result"
    }
   ],
   "source": [
    "df_bi_a.tail()"
   ]
  },
  {
   "cell_type": "code",
   "execution_count": 75,
   "id": "68c5234e",
   "metadata": {},
   "outputs": [
    {
     "name": "stdout",
     "output_type": "stream",
     "text": [
      "Number of images in folder: 184\n"
     ]
    }
   ],
   "source": [
    "f = 'D:\\\\Saved_Images_bi_a'\n",
    "print(f\"Number of images in folder: {count_images_in_folder(f)}\")"
   ]
  },
  {
   "cell_type": "code",
   "execution_count": 76,
   "id": "13d8b7d9",
   "metadata": {},
   "outputs": [
    {
     "data": {
      "text/plain": [
       "(149, 2)"
      ]
     },
     "execution_count": 76,
     "metadata": {},
     "output_type": "execute_result"
    }
   ],
   "source": [
    "df_bi_a = df_bi_a[~df_bi_a.applymap(lambda x: x == 'no_alt_text').any(axis=1)]\n",
    "df_bi_a.shape"
   ]
  },
  {
   "cell_type": "code",
   "execution_count": 77,
   "id": "cc1cc807",
   "metadata": {},
   "outputs": [],
   "source": [
    "df_bi_a = df_bi_a.drop(df_bi_a.tail(2).index)\n",
    "df_bi_a.reset_index(drop=True, inplace=True)\n",
    "df_bi_a['Caption'] = df_bi_a['Caption'].apply(drop_unnecessary_token)\n",
    "df_bi_a['Caption'] = df_bi_a['Caption'].apply(to_sentence_case)"
   ]
  },
  {
   "cell_type": "code",
   "execution_count": 78,
   "id": "45c0181f",
   "metadata": {},
   "outputs": [],
   "source": [
    "df_bi_a.to_csv('dataset_image_bi_a.csv', index=False)"
   ]
  },
  {
   "cell_type": "code",
   "execution_count": 79,
   "id": "5e0c3d1d",
   "metadata": {},
   "outputs": [],
   "source": [
    "folder_path = 'D:\\\\Saved_Images_bi_a'\n",
    "csv_file_path = 'C:\\\\Users\\\\ADMIN\\\\dataset_image_bi_a.csv'\n",
    "clean_folder_from_csv(folder_path, csv_file_path)"
   ]
  },
  {
   "cell_type": "code",
   "execution_count": 80,
   "id": "5c4b7941",
   "metadata": {},
   "outputs": [
    {
     "name": "stdout",
     "output_type": "stream",
     "text": [
      "Number of images in folder: 147\n"
     ]
    }
   ],
   "source": [
    "f = 'D:\\\\Saved_Images_bi_a'\n",
    "print(f\"Number of images in folder: {count_images_in_folder(f)}\")"
   ]
  },
  {
   "cell_type": "markdown",
   "id": "32c87567",
   "metadata": {},
   "source": [
    "## Aerobic_Data"
   ]
  },
  {
   "cell_type": "code",
   "execution_count": 81,
   "id": "ccad8b5a",
   "metadata": {},
   "outputs": [
    {
     "data": {
      "text/plain": [
       "(788, 2)"
      ]
     },
     "execution_count": 81,
     "metadata": {},
     "output_type": "execute_result"
    }
   ],
   "source": [
    "df_aerobic.shape"
   ]
  },
  {
   "cell_type": "code",
   "execution_count": 82,
   "id": "f105d446",
   "metadata": {},
   "outputs": [
    {
     "data": {
      "text/html": [
       "<div>\n",
       "<style scoped>\n",
       "    .dataframe tbody tr th:only-of-type {\n",
       "        vertical-align: middle;\n",
       "    }\n",
       "\n",
       "    .dataframe tbody tr th {\n",
       "        vertical-align: top;\n",
       "    }\n",
       "\n",
       "    .dataframe thead th {\n",
       "        text-align: right;\n",
       "    }\n",
       "</style>\n",
       "<table border=\"1\" class=\"dataframe\">\n",
       "  <thead>\n",
       "    <tr style=\"text-align: right;\">\n",
       "      <th></th>\n",
       "      <th>Image Filename</th>\n",
       "      <th>Caption</th>\n",
       "    </tr>\n",
       "  </thead>\n",
       "  <tbody>\n",
       "    <tr>\n",
       "      <th>783</th>\n",
       "      <td>image784.jpg</td>\n",
       "      <td>no_alt_text</td>\n",
       "    </tr>\n",
       "    <tr>\n",
       "      <th>784</th>\n",
       "      <td>image785.jpg</td>\n",
       "      <td>no_alt_text</td>\n",
       "    </tr>\n",
       "    <tr>\n",
       "      <th>785</th>\n",
       "      <td>image786.jpg</td>\n",
       "      <td>no_alt_text</td>\n",
       "    </tr>\n",
       "    <tr>\n",
       "      <th>786</th>\n",
       "      <td>image787.jpg</td>\n",
       "      <td>Pexels Logo</td>\n",
       "    </tr>\n",
       "    <tr>\n",
       "      <th>787</th>\n",
       "      <td>image788.jpg</td>\n",
       "      <td>Powered by Onetrust</td>\n",
       "    </tr>\n",
       "  </tbody>\n",
       "</table>\n",
       "</div>"
      ],
      "text/plain": [
       "    Image Filename              Caption\n",
       "783   image784.jpg          no_alt_text\n",
       "784   image785.jpg          no_alt_text\n",
       "785   image786.jpg          no_alt_text\n",
       "786   image787.jpg          Pexels Logo\n",
       "787   image788.jpg  Powered by Onetrust"
      ]
     },
     "execution_count": 82,
     "metadata": {},
     "output_type": "execute_result"
    }
   ],
   "source": [
    "df_aerobic.tail()"
   ]
  },
  {
   "cell_type": "code",
   "execution_count": 83,
   "id": "3a1a7d42",
   "metadata": {},
   "outputs": [
    {
     "name": "stdout",
     "output_type": "stream",
     "text": [
      "Number of images in folder: 788\n"
     ]
    }
   ],
   "source": [
    "f = 'D:\\\\Saved_Images_aerobic'\n",
    "print(f\"Number of images in folder: {count_images_in_folder(f)}\")"
   ]
  },
  {
   "cell_type": "code",
   "execution_count": 85,
   "id": "66c935f8",
   "metadata": {},
   "outputs": [
    {
     "data": {
      "text/plain": [
       "(664, 2)"
      ]
     },
     "execution_count": 85,
     "metadata": {},
     "output_type": "execute_result"
    }
   ],
   "source": [
    "df_aerobic = df_aerobic[~df_aerobic.applymap(lambda x: x == 'no_alt_text').any(axis=1)]\n",
    "df_aerobic.shape"
   ]
  },
  {
   "cell_type": "code",
   "execution_count": 86,
   "id": "522b84e8",
   "metadata": {},
   "outputs": [],
   "source": [
    "df_aerobic = df_aerobic.drop(df_aerobic.tail(2).index)\n",
    "df_aerobic.reset_index(drop=True, inplace=True)\n",
    "df_aerobic['Caption'] = df_aerobic['Caption'].apply(drop_unnecessary_token)\n",
    "df_aerobic['Caption'] = df_aerobic['Caption'].apply(to_sentence_case)"
   ]
  },
  {
   "cell_type": "code",
   "execution_count": 87,
   "id": "db6fe664",
   "metadata": {},
   "outputs": [],
   "source": [
    "df_aerobic.to_csv('dataset_image_aerobic.csv', index=False)"
   ]
  },
  {
   "cell_type": "code",
   "execution_count": 88,
   "id": "0a552a80",
   "metadata": {},
   "outputs": [],
   "source": [
    "folder_path = 'D:\\\\Saved_Images_aerobic'\n",
    "csv_file_path = 'C:\\\\Users\\\\ADMIN\\\\dataset_image_aerobic.csv'\n",
    "clean_folder_from_csv(folder_path, csv_file_path)"
   ]
  },
  {
   "cell_type": "code",
   "execution_count": 89,
   "id": "b1f2b15a",
   "metadata": {},
   "outputs": [
    {
     "name": "stdout",
     "output_type": "stream",
     "text": [
      "Number of images in folder: 662\n"
     ]
    }
   ],
   "source": [
    "f = 'D:\\\\Saved_Images_aerobic'\n",
    "print(f\"Number of images in folder: {count_images_in_folder(f)}\")"
   ]
  }
 ],
 "metadata": {
  "kernelspec": {
   "display_name": "Python 3 (ipykernel)",
   "language": "python",
   "name": "python3"
  },
  "language_info": {
   "codemirror_mode": {
    "name": "ipython",
    "version": 3
   },
   "file_extension": ".py",
   "mimetype": "text/x-python",
   "name": "python",
   "nbconvert_exporter": "python",
   "pygments_lexer": "ipython3",
   "version": "3.9.12"
  }
 },
 "nbformat": 4,
 "nbformat_minor": 5
}
